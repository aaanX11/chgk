{
  "nbformat": 4,
  "nbformat_minor": 0,
  "metadata": {
    "colab": {
      "provenance": []
    },
    "kernelspec": {
      "name": "python3",
      "display_name": "Python 3"
    },
    "language_info": {
      "name": "python"
    },
    "gpuClass": "standard"
  },
  "cells": [
    {
      "cell_type": "code",
      "execution_count": null,
      "metadata": {
        "id": "3ozvVQYih0Dx"
      },
      "outputs": [],
      "source": [
        "import numpy as np \n",
        "import pandas as pd\n",
        "import matplotlib.pyplot as plt\n",
        "\n",
        "import zipfile\n",
        "import os\n",
        "import glob\n",
        "\n",
        "import json\n",
        "import pickle\n",
        "from datetime import datetime, date\n",
        "from scipy import interpolate\n",
        "from scipy.sparse import coo_array\n",
        "from sklearn.linear_model import LinearRegression, LogisticRegression\n",
        "from scipy.special import expit\n",
        "\n",
        "import torch\n",
        "from torch import nn\n",
        "from torch.nn import functional as F"
      ]
    },
    {
      "cell_type": "code",
      "source": [
        "# os.listdir(r'/content/drive/MyDrive/ad_ml')"
      ],
      "metadata": {
        "id": "Sme9f8yLbF78"
      },
      "execution_count": null,
      "outputs": []
    },
    {
      "cell_type": "code",
      "source": [
        "dir_path = r'/content/drive/MyDrive/ad_ml'\n",
        "# path = r'/content/drive/MyDrive/chgk.zip'\n",
        "\n",
        "# try:\n",
        "#     os.mkdir(dir_path)\n",
        "# except FileExistsError:\n",
        "#     pass\n",
        "# with zipfile.ZipFile(path, 'r') as zip_ref:\n",
        "#     zip_ref.extractall(dir_path)"
      ],
      "metadata": {
        "id": "RKQdEXoomWes"
      },
      "execution_count": null,
      "outputs": []
    },
    {
      "cell_type": "code",
      "source": [
        "restart = False\n",
        "\n",
        "with open(os.path.join(dir_path, 'tournaments.pkl'), 'rb') as file:\n",
        "    tournaments = pickle.load(file)\n",
        "tournaments = pd.DataFrame(tournaments).T.set_index('id')\n",
        "\n",
        "if restart:\n",
        "    with open(os.path.join(dir_path, 'results.pkl'), 'rb') as file:\n",
        "        results = pickle.load(file)\n",
        "\n",
        "with open(os.path.join(dir_path, 'players.pkl'), 'rb') as file:\n",
        "    players = pickle.load(file)\n",
        "players = pd.DataFrame(players).T.set_index('id')\n",
        "\n",
        "\n",
        "\n",
        "tourn_train = tournaments[tournaments.dateStart.map(lambda d: datetime.fromisoformat(d).year == 2019)]\n",
        "tourn_test = tournaments[tournaments.dateStart.map(lambda d: datetime.fromisoformat(d).year == 2020)]"
      ],
      "metadata": {
        "id": "AxgbQOMonN8P"
      },
      "execution_count": null,
      "outputs": []
    },
    {
      "cell_type": "code",
      "source": [
        "# players[players.surname.str.contains('Вассерман')]"
      ],
      "metadata": {
        "id": "qJj2U6PE6iDK"
      },
      "execution_count": null,
      "outputs": []
    },
    {
      "cell_type": "code",
      "source": [
        "train = pd.DataFrame()\n",
        "def construct(results):\n",
        "    data = pd.DataFrame()\n",
        "    for k, v in results.items():\n",
        "        \n",
        "        for team in v:\n",
        "\n",
        "            w = pd.json_normalize(team)\n",
        "            try:\n",
        "                w = w.explode('teamMembers')[['mask', 'teamMembers', 'team.id']].copy()\n",
        "            except KeyError:\n",
        "                continue\n",
        "            w['player_id'] = w.teamMembers.map(\n",
        "                lambda p: float('nan') \n",
        "                if isinstance(p, float) \n",
        "                else p['player']['id']\n",
        "            )\n",
        "            w = w[['mask', 'player_id', 'team.id']]\n",
        "            w['tourn_id'] = k\n",
        "\n",
        "            data = pd.concat((data, w), axis=0)\n",
        "    return data\n",
        "\n"
      ],
      "metadata": {
        "id": "9fxSZqeNSLO1"
      },
      "execution_count": null,
      "outputs": []
    },
    {
      "cell_type": "code",
      "source": [
        "\n",
        "if restart:\n",
        "    results_train = {k: v for k, v in results.items() if k in tourn_train.index.tolist()}\n",
        "    results_test = {k: v for k, v in results.items() if k in tourn_test.index.tolist()}\n",
        "\n",
        "    train = construct(results_train)\n",
        "    test = construct(results_test)\n",
        "\n",
        "    with open(os.path.join(dir_path, 'train.pkl'), 'wb') as file:\n",
        "        pickle.dump(train, file)\n",
        "    with open(os.path.join(dir_path, 'test.pkl'), 'wb') as file:\n",
        "        pickle.dump(test, file)\n",
        "else:\n",
        "    with open(os.path.join(dir_path, 'train.pkl'), 'rb') as file:\n",
        "        train = pickle.load(file)\n",
        "    with open(os.path.join(dir_path, 'test.pkl'), 'rb') as file:\n",
        "        test = pickle.load(file)\n",
        "\n",
        "print(train.player_id.unique().shape)\n",
        "print(test.player_id.unique().shape)"
      ],
      "metadata": {
        "id": "m1lEXtg4Tz6r",
        "colab": {
          "base_uri": "https://localhost:8080/"
        },
        "outputId": "5b34413f-a3e1-4766-a890-121739460691"
      },
      "execution_count": null,
      "outputs": [
        {
          "output_type": "stream",
          "name": "stdout",
          "text": [
            "(59217,)\n",
            "(29243,)\n"
          ]
        }
      ]
    },
    {
      "cell_type": "code",
      "source": [
        "\n",
        "train = train[train['mask'].notna()]\n",
        "train['mask'] = train['mask'].str.replace('X', '')\n",
        "test['mask'] = test['mask'].str.replace('X', '')\n",
        "train.head()"
      ],
      "metadata": {
        "colab": {
          "base_uri": "https://localhost:8080/",
          "height": 206
        },
        "id": "lwpE73kE1lyc",
        "outputId": "99155cc0-240e-4302-bffb-04e25c2d7354"
      },
      "execution_count": null,
      "outputs": [
        {
          "output_type": "execute_result",
          "data": {
            "text/plain": [
              "                                   mask  player_id  team.id  tourn_id\n",
              "0  111111111011111110111111111100010010     6212.0    45556      4772\n",
              "0  111111111011111110111111111100010010    18332.0    45556      4772\n",
              "0  111111111011111110111111111100010010    18036.0    45556      4772\n",
              "0  111111111011111110111111111100010010    22799.0    45556      4772\n",
              "0  111111111011111110111111111100010010    15456.0    45556      4772"
            ],
            "text/html": [
              "\n",
              "  <div id=\"df-8124b966-b6b9-4953-a027-777f04d56d12\">\n",
              "    <div class=\"colab-df-container\">\n",
              "      <div>\n",
              "<style scoped>\n",
              "    .dataframe tbody tr th:only-of-type {\n",
              "        vertical-align: middle;\n",
              "    }\n",
              "\n",
              "    .dataframe tbody tr th {\n",
              "        vertical-align: top;\n",
              "    }\n",
              "\n",
              "    .dataframe thead th {\n",
              "        text-align: right;\n",
              "    }\n",
              "</style>\n",
              "<table border=\"1\" class=\"dataframe\">\n",
              "  <thead>\n",
              "    <tr style=\"text-align: right;\">\n",
              "      <th></th>\n",
              "      <th>mask</th>\n",
              "      <th>player_id</th>\n",
              "      <th>team.id</th>\n",
              "      <th>tourn_id</th>\n",
              "    </tr>\n",
              "  </thead>\n",
              "  <tbody>\n",
              "    <tr>\n",
              "      <th>0</th>\n",
              "      <td>111111111011111110111111111100010010</td>\n",
              "      <td>6212.0</td>\n",
              "      <td>45556</td>\n",
              "      <td>4772</td>\n",
              "    </tr>\n",
              "    <tr>\n",
              "      <th>0</th>\n",
              "      <td>111111111011111110111111111100010010</td>\n",
              "      <td>18332.0</td>\n",
              "      <td>45556</td>\n",
              "      <td>4772</td>\n",
              "    </tr>\n",
              "    <tr>\n",
              "      <th>0</th>\n",
              "      <td>111111111011111110111111111100010010</td>\n",
              "      <td>18036.0</td>\n",
              "      <td>45556</td>\n",
              "      <td>4772</td>\n",
              "    </tr>\n",
              "    <tr>\n",
              "      <th>0</th>\n",
              "      <td>111111111011111110111111111100010010</td>\n",
              "      <td>22799.0</td>\n",
              "      <td>45556</td>\n",
              "      <td>4772</td>\n",
              "    </tr>\n",
              "    <tr>\n",
              "      <th>0</th>\n",
              "      <td>111111111011111110111111111100010010</td>\n",
              "      <td>15456.0</td>\n",
              "      <td>45556</td>\n",
              "      <td>4772</td>\n",
              "    </tr>\n",
              "  </tbody>\n",
              "</table>\n",
              "</div>\n",
              "      <button class=\"colab-df-convert\" onclick=\"convertToInteractive('df-8124b966-b6b9-4953-a027-777f04d56d12')\"\n",
              "              title=\"Convert this dataframe to an interactive table.\"\n",
              "              style=\"display:none;\">\n",
              "        \n",
              "  <svg xmlns=\"http://www.w3.org/2000/svg\" height=\"24px\"viewBox=\"0 0 24 24\"\n",
              "       width=\"24px\">\n",
              "    <path d=\"M0 0h24v24H0V0z\" fill=\"none\"/>\n",
              "    <path d=\"M18.56 5.44l.94 2.06.94-2.06 2.06-.94-2.06-.94-.94-2.06-.94 2.06-2.06.94zm-11 1L8.5 8.5l.94-2.06 2.06-.94-2.06-.94L8.5 2.5l-.94 2.06-2.06.94zm10 10l.94 2.06.94-2.06 2.06-.94-2.06-.94-.94-2.06-.94 2.06-2.06.94z\"/><path d=\"M17.41 7.96l-1.37-1.37c-.4-.4-.92-.59-1.43-.59-.52 0-1.04.2-1.43.59L10.3 9.45l-7.72 7.72c-.78.78-.78 2.05 0 2.83L4 21.41c.39.39.9.59 1.41.59.51 0 1.02-.2 1.41-.59l7.78-7.78 2.81-2.81c.8-.78.8-2.07 0-2.86zM5.41 20L4 18.59l7.72-7.72 1.47 1.35L5.41 20z\"/>\n",
              "  </svg>\n",
              "      </button>\n",
              "      \n",
              "  <style>\n",
              "    .colab-df-container {\n",
              "      display:flex;\n",
              "      flex-wrap:wrap;\n",
              "      gap: 12px;\n",
              "    }\n",
              "\n",
              "    .colab-df-convert {\n",
              "      background-color: #E8F0FE;\n",
              "      border: none;\n",
              "      border-radius: 50%;\n",
              "      cursor: pointer;\n",
              "      display: none;\n",
              "      fill: #1967D2;\n",
              "      height: 32px;\n",
              "      padding: 0 0 0 0;\n",
              "      width: 32px;\n",
              "    }\n",
              "\n",
              "    .colab-df-convert:hover {\n",
              "      background-color: #E2EBFA;\n",
              "      box-shadow: 0px 1px 2px rgba(60, 64, 67, 0.3), 0px 1px 3px 1px rgba(60, 64, 67, 0.15);\n",
              "      fill: #174EA6;\n",
              "    }\n",
              "\n",
              "    [theme=dark] .colab-df-convert {\n",
              "      background-color: #3B4455;\n",
              "      fill: #D2E3FC;\n",
              "    }\n",
              "\n",
              "    [theme=dark] .colab-df-convert:hover {\n",
              "      background-color: #434B5C;\n",
              "      box-shadow: 0px 1px 3px 1px rgba(0, 0, 0, 0.15);\n",
              "      filter: drop-shadow(0px 1px 2px rgba(0, 0, 0, 0.3));\n",
              "      fill: #FFFFFF;\n",
              "    }\n",
              "  </style>\n",
              "\n",
              "      <script>\n",
              "        const buttonEl =\n",
              "          document.querySelector('#df-8124b966-b6b9-4953-a027-777f04d56d12 button.colab-df-convert');\n",
              "        buttonEl.style.display =\n",
              "          google.colab.kernel.accessAllowed ? 'block' : 'none';\n",
              "\n",
              "        async function convertToInteractive(key) {\n",
              "          const element = document.querySelector('#df-8124b966-b6b9-4953-a027-777f04d56d12');\n",
              "          const dataTable =\n",
              "            await google.colab.kernel.invokeFunction('convertToInteractive',\n",
              "                                                     [key], {});\n",
              "          if (!dataTable) return;\n",
              "\n",
              "          const docLinkHtml = 'Like what you see? Visit the ' +\n",
              "            '<a target=\"_blank\" href=https://colab.research.google.com/notebooks/data_table.ipynb>data table notebook</a>'\n",
              "            + ' to learn more about interactive tables.';\n",
              "          element.innerHTML = '';\n",
              "          dataTable['output_type'] = 'display_data';\n",
              "          await google.colab.output.renderOutput(dataTable, element);\n",
              "          const docLink = document.createElement('div');\n",
              "          docLink.innerHTML = docLinkHtml;\n",
              "          element.appendChild(docLink);\n",
              "        }\n",
              "      </script>\n",
              "    </div>\n",
              "  </div>\n",
              "  "
            ]
          },
          "metadata": {},
          "execution_count": 8
        }
      ]
    },
    {
      "cell_type": "code",
      "source": [
        "%%script false --no-raise-error\n",
        "# train[train['mask'].str.contains('X')]\n",
        "# train[train.tourn_id == 4986]\n",
        "\n",
        "train[train['mask'].str.contains('?', regex=False)]\n",
        "train[((train.tourn_id == 5141) & (train['mask'].str.contains('?', regex=False)))]"
      ],
      "metadata": {
        "id": "R2wgt22T5Ksb"
      },
      "execution_count": null,
      "outputs": []
    },
    {
      "cell_type": "code",
      "source": [
        "%%script false --no-raise-error\n",
        "print(train[train.tourn_id == 5462][\"mask\"].str.len().describe())\n",
        "# with pd.option_context('display.max_rows', 50, 'display.max_columns', 5, 'display.max_colwidth', 512):\n",
        "#    print(train[train.tourn_id == 5462][\"mask\"].head(50))\n",
        "print()\n",
        "\n",
        "df1 = pd.DataFrame(train['tourn_id'])\n",
        "df1['len_mask'] = train[\"mask\"].str.len()\n",
        "\n",
        "df1 = df1.groupby(['tourn_id']).agg({'len_mask': lambda x: list(x.unique())})\n",
        "\n",
        "df2 = df1[df1.len_mask.map(lambda x: len(x)) > 1]\n",
        "print(df2)\n",
        "\n",
        "print('-----------------------------------------------------------')\n",
        "print('-----------------------------------------------------------')\n",
        "\n",
        "print(\"\", len(df2) / train.tourn_id.unique().shape[0])\n",
        "\n",
        "print(\"\", len(df2.merge(train, left_on='tourn_id', right_on='tourn_id')) / len(train))\n"
      ],
      "metadata": {
        "id": "RzQuXiSjkZC2"
      },
      "execution_count": null,
      "outputs": []
    },
    {
      "cell_type": "markdown",
      "source": [
        "TODO: разбить турнир с разным числом вопросов в турах на несколько турниров, добавить в train"
      ],
      "metadata": {
        "id": "pjZ4iP4rn2Z_"
      }
    },
    {
      "cell_type": "code",
      "source": [
        "%%script false --no-raise-error\n",
        "\n",
        "\n",
        "tourn_w_rounds = df2.index.tolist()\n",
        "tourn_w_rounds  # [5462, 5553, 5554, 5703, 5760, 5864, 6026, 6085, 6090, 6249, 6254, 6255]\n",
        "df_tourn_w_rounds = pd.DataFrame(columns=['mask',\t'team.id', 'player.id',\t'tourn_id'])\n",
        "for file in glob.glob(dir_path + '/*.csv'):\n",
        "    \n",
        "    tourn_id_str = file[46:50]\n",
        "    # df_tourn_w_rounds = pd.concat((df_tourn_w_rounds, ), axis=0)\n",
        "    df3 = pd.read_csv(file)\n",
        "    for round_id in df3['Тур'].unique():\n",
        "        df_round = df3[df3['Тур'] == round_id]\n",
        "        df_round.dropna(axis=1, inplace=True, how='any')\n",
        "        df_round['tourn_id'] = \n",
        "df_tourn_w_rounds"
      ],
      "metadata": {
        "id": "YF4ARHrikbGa"
      },
      "execution_count": null,
      "outputs": []
    },
    {
      "cell_type": "code",
      "source": [
        "sample = np.random.choice(train.tourn_id.unique(), 10)\n",
        "fig, ax = plt.subplots(2, 5)\n",
        "fig.set_size_inches(12, 8)\n",
        "for idx, tourn_id in enumerate(sample):\n",
        "    tourn = train[train.tourn_id == tourn_id]\n",
        "    ans_mask = tourn[\"mask\"].map(lambda x: [int(i) if i in '01' else 0.5 for i in x]).tolist()\n",
        "    columns=[str(i) for i in range(len(ans_mask[0]))]\n",
        "    ans_arr = pd.DataFrame(ans_mask, columns=columns).to_numpy()\n",
        "\n",
        "    ans_rate = pd.DataFrame(ans_mask, columns=columns).to_numpy().sum(axis=0) / ans_arr.shape[0]\n",
        "\n",
        "    # interpolate.interp1d\n",
        "    ax[idx // 5, idx % 5].plot(np.sort(ans_rate[((ans_rate > 0) & (ans_rate < 0.99999999))]))"
      ],
      "metadata": {
        "colab": {
          "base_uri": "https://localhost:8080/",
          "height": 678
        },
        "id": "Y-bS3fYrzOR8",
        "outputId": "ad687c9a-e0f9-4bdb-d854-e34d97beb1fe"
      },
      "execution_count": null,
      "outputs": [
        {
          "output_type": "display_data",
          "data": {
            "text/plain": [
              "<Figure size 1200x800 with 10 Axes>"
            ],
            "image/png": "[encoded data removed]"
          },
          "metadata": {}
        }
      ]
    },
    {
      "cell_type": "markdown",
      "source": [
        "TODO: в графиках выше считается, что все игроки команды, давшей правильный ответ, взяли вопрос. По оси $y$ доля ответивших игроков, по $x$ порядковый номер вопроса по убыванию сложности. Надо построить график с долей ответивших команд"
      ],
      "metadata": {
        "id": "CVZW_Q8cKeFr"
      }
    },
    {
      "cell_type": "markdown",
      "source": [
        "Простота вопросов пусть будет линейная."
      ],
      "metadata": {
        "id": "JmtkiarLyZ3D"
      }
    },
    {
      "cell_type": "code",
      "source": [
        "\n",
        "\n",
        "\n",
        "def get_complexity_data(tourn):\n",
        "    if tourn[\"mask\"].str.len().unique().size > 1:\n",
        "        # print(tourn.tourn_id.values[0])\n",
        "        pass\n",
        "    ans_mask = tourn[\"mask\"].map(lambda x: [int(i) if i in '01' else 0.5 for i in x]).tolist()\n",
        "    columns=[str(i) for i in range(len(ans_mask[0]))]\n",
        "    ans_arr = pd.DataFrame(ans_mask, columns=columns).to_numpy()\n",
        "    \n",
        "    q_rate = ans_arr.sum(axis=0) / ans_arr.shape[0]\n",
        "\n",
        "    return ans_arr, q_rate\n",
        "\n"
      ],
      "metadata": {
        "id": "1kPsCEUfBnVY"
      },
      "execution_count": null,
      "outputs": []
    },
    {
      "cell_type": "markdown",
      "source": [
        "TODO: Переделать графики выше с использованием $\\texttt{get_complexity_function}$ . Сделать столько же сэмплов с линейным предсказанием простоты вопросов."
      ],
      "metadata": {
        "id": "00WpVhooa-0T"
      }
    },
    {
      "cell_type": "markdown",
      "source": [
        "Предсказываем простоту линейной функцией, выглядит похоже"
      ],
      "metadata": {
        "id": "sVl-hC12ypo0"
      }
    },
    {
      "cell_type": "code",
      "source": [
        "fig, ax = plt.subplots(1, 3)\n",
        "fig.set_size_inches(12, 4)\n",
        "for idx, tourn_id in enumerate(train.tourn_id.unique()[:3]):\n",
        "    batch = train[train.tourn_id == tourn_id]\n",
        "    ans_arr, q_rate = get_complexity_data(batch)\n",
        "    indices = np.argsort(1 - q_rate)\n",
        "    inv_indices = np.empty_like(indices)\n",
        "    inv_indices[indices] = np.arange(len(indices))\n",
        "\n",
        "    lr = LinearRegression()\n",
        "    \n",
        "    lr.fit(\n",
        "        inv_indices.reshape(-1, 1), (1 - q_rate).reshape(-1, 1)\n",
        "    )\n",
        "    simplicity = lr.predict(inv_indices.reshape(-1, 1))\n",
        "    \n",
        "    ax[idx].plot(((1 - q_rate).flatten()))\n",
        "    ax[idx].plot((simplicity.flatten()))\n",
        "\n"
      ],
      "metadata": {
        "colab": {
          "base_uri": "https://localhost:8080/",
          "height": 368
        },
        "id": "7mWVEeUFTb8b",
        "outputId": "eebc8f39-3aa4-4858-ffc3-9166ade9b885"
      },
      "execution_count": null,
      "outputs": [
        {
          "output_type": "display_data",
          "data": {
            "text/plain": [
              "<Figure size 1200x400 with 3 Axes>"
            ],
            "image/png": "[encoded data removed]"
          },
          "metadata": {}
        }
      ]
    },
    {
      "cell_type": "code",
      "source": [
        "\n",
        "tourn_ids = train.tourn_id.unique()\n",
        "player_ids = train.player_id.unique()\n",
        "player_ids = player_ids[~np.isnan(player_ids)].astype(int)\n",
        "\n",
        "\n",
        "player_id2idx = {}\n",
        "for player_id in player_ids:\n",
        "    player_id2idx[player_id] = np.argwhere(player_ids == player_id).item()\n",
        "\n",
        "np.argwhere(player_ids == 5195).item()"
      ],
      "metadata": {
        "colab": {
          "base_uri": "https://localhost:8080/"
        },
        "id": "3Pg2U0h_K8JT",
        "outputId": "3f9709df-c1ed-49d0-dcf9-014308f184d6"
      },
      "execution_count": null,
      "outputs": [
        {
          "output_type": "execute_result",
          "data": {
            "text/plain": [
              "5920"
            ]
          },
          "metadata": {},
          "execution_count": 15
        }
      ]
    },
    {
      "cell_type": "code",
      "source": [
        "\n",
        "train_simplicities = pd.Series(index=tourn_ids, dtype=object)\n",
        "for tourn_idx, tourn_id in enumerate(tourn_ids):\n",
        "    if tourn_id in [5462, 5553, 5554, 5703, 5760, 5864, 6026, 6085, 6090, 6249, 6254, 6255]: # tourn_w_rounds: \n",
        "        continue\n",
        "    tournament = train[train.tourn_id == tourn_id]\n",
        "    ans_arr, q_rate = get_complexity_data(tournament)\n",
        "    indices = np.argsort(1 - q_rate)\n",
        "    inv_indices = np.empty_like(indices)\n",
        "    inv_indices[indices] = np.arange(len(indices))\n",
        "\n",
        "    lr = LinearRegression()\n",
        "    \n",
        "    lr.fit(\n",
        "        inv_indices.reshape(-1, 1), (1 - q_rate).reshape(-1, 1)\n",
        "    )\n",
        "    simplicity = lr.predict(inv_indices.reshape(-1, 1))\n",
        "    train_simplicities.loc[tourn_id] = simplicity"
      ],
      "metadata": {
        "id": "1lyyrwmbF0fb"
      },
      "execution_count": null,
      "outputs": []
    },
    {
      "cell_type": "markdown",
      "source": [
        "Время выполнения двух следующих ячеек при перезапуске может занять полчаса каждая"
      ],
      "metadata": {
        "id": "_KkOSMV8gZ5K"
      }
    },
    {
      "cell_type": "code",
      "source": [
        "if restart:  ## EXECUTION TIME ~2 HOURS\n",
        "    rowX  = np.empty((40_000_000, 1))\n",
        "    colX  = np.empty((40_000_000, 1))\n",
        "    dataX = np.empty((40_000_000, 1))\n",
        "    sample_idx = 0\n",
        "\n",
        "    for tourn_idx, tourn_id in enumerate(tourn_ids):\n",
        "        if tourn_id in tourn_w_rounds: \n",
        "            continue\n",
        "        tournament = train[train.tourn_id == tourn_id]\n",
        "        ans_arr, q_rate = get_complexity_data(tournament)\n",
        "\n",
        "        simplicity = train_simplicities[tourn_id]\n",
        "        assert ans_arr.shape[0] == len(tournament)\n",
        "        \n",
        "        \n",
        "        for tourn_row_idx, (player_id, answers) in enumerate(zip(tournament.player_id, ans_arr)):\n",
        "            try:\n",
        "                player_id = int(player_id)\n",
        "            except Exception as e:\n",
        "                # print(e)\n",
        "                # print(tourn_idx)  # tourn_idxes where player_id NaN: 4 22 251 379 383 384 395 462 546 564 573 597\n",
        "                continue\n",
        "            \n",
        "            for que_idx, (question_rate, answer) in enumerate(zip(simplicity, answers)):\n",
        "                rowX[sample_idx] = sample_idx // 2\n",
        "                colX[sample_idx] = tourn_idx\n",
        "                dataX[sample_idx] = question_rate\n",
        "            \n",
        "                rowX[sample_idx + 1] = sample_idx // 2\n",
        "                colX[sample_idx + 1] = len(tourn_ids) + player_id2idx[player_id]\n",
        "                dataX[sample_idx + 1] = 1\n",
        "\n",
        "                sample_idx += 2\n",
        "\n",
        "    rowX = rowX[:sample_idx]\n",
        "    colX = colX[:sample_idx]\n",
        "    dataX = dataX[:sample_idx]\n",
        "\n",
        "    X_train = coo_array( \n",
        "        (dataX.squeeze(), (rowX.squeeze(), colX.squeeze())), \n",
        "        shape=(sample_idx // 2, len(tourn_ids) + len(player_ids))\n",
        "    )\n",
        "    with open(os.path.join(dir_path, 'X_train.pkl'), 'wb') as file:\n",
        "        pickle.dump(X_train, file)\n",
        "\n",
        "else: \n",
        "    with open(os.path.join(dir_path, 'X_train.pkl'), 'rb') as file:\n",
        "        X_train = pickle.load(file)\n",
        "    \n"
      ],
      "metadata": {
        "id": "63CmLKH1X6-T"
      },
      "execution_count": null,
      "outputs": []
    },
    {
      "cell_type": "markdown",
      "source": [
        "TODO\n",
        "2. Внутренний цикл можно убрать, станет быстрее\n",
        "3. nan в игроках можно заранее дропнуть"
      ],
      "metadata": {
        "id": "DPlZYVOvR_q9"
      }
    },
    {
      "cell_type": "code",
      "source": [
        "if restart:  \n",
        "    y_train = pd.DataFrame(\n",
        "        index=range(20_000_000), \n",
        "        columns=['tourn_id', 'team_id', 'que_idx', 'numerator', 'denominator', 'value']\n",
        "    )\n",
        "\n",
        "    sample_idx = 0\n",
        "\n",
        "    for tourn_idx, tourn_id in enumerate(tourn_ids):\n",
        "        if tourn_id in tourn_w_rounds: \n",
        "            continue\n",
        "        tournament = train[train.tourn_id == tourn_id]\n",
        "        ans_arr, q_rate = get_complexity_data(tournament)\n",
        "\n",
        "        simplicity = train_simplicities[tourn_id]\n",
        "        assert ans_arr.shape[0] == len(tournament)\n",
        "        \n",
        "        \n",
        "        for tourn_row_idx, (team_id, player_id, answers) in enumerate(zip(tournament['team.id'], tournament.player_id, ans_arr)):\n",
        "            try:\n",
        "                player_id = int(player_id)\n",
        "            except Exception as e:\n",
        "                # print(e)\n",
        "                # print(tourn_idx)  # tourn_idxes where player_id NaN: 4 22 251 379 383 384 395 462 546 564 573 597\n",
        "                continue\n",
        "            \n",
        "            for que_idx, (question_rate, answer) in enumerate(zip(simplicity, answers)):\n",
        "                y_train.iloc[sample_idx, [0, 1, 2, 5]] = [tourn_id, team_id, que_idx, answer]\n",
        "\n",
        "                sample_idx += 1\n",
        "\n",
        "    y_train = y_train.iloc[:sample_idx, :]\n",
        "\n",
        "    \n",
        "    with open(os.path.join(dir_path, f'y_train_0.pkl'), 'wb') as file:\n",
        "        pickle.dump(y_train.iloc[:len(y_train) // 2], file)\n",
        "\n",
        "    with open(os.path.join(dir_path, f'y_train_1.pkl'), 'wb') as file:\n",
        "        pickle.dump(y_train.iloc[len(y_train) // 2:], file)\n",
        "    \n",
        "\n",
        "else: \n",
        "    with open(os.path.join(dir_path, f'y_train_0.pkl'), 'rb') as file1, \\\n",
        "        open(os.path.join(dir_path, f'y_train_1.pkl'), 'rb') as file2:\n",
        "        y_train = pd.concat((pickle.load(file1), pickle.load(file2)), axis=0)\n"
      ],
      "metadata": {
        "id": "bPJc0KmkiqKd"
      },
      "execution_count": null,
      "outputs": []
    },
    {
      "cell_type": "markdown",
      "source": [
        "## Baseline:"
      ],
      "metadata": {
        "id": "3p226PGSy_sD"
      }
    },
    {
      "cell_type": "code",
      "source": [
        "\n",
        "lr = LogisticRegression(max_iter=10000, warm_start=True)\n",
        "lr.fit(X_train, y_train.value.to_numpy().astype(int))"
      ],
      "metadata": {
        "colab": {
          "base_uri": "https://localhost:8080/",
          "height": 74
        },
        "id": "qnbR2VSp7FqY",
        "outputId": "5de9616d-6f2a-49d8-d268-47fa8d309459"
      },
      "execution_count": null,
      "outputs": [
        {
          "output_type": "execute_result",
          "data": {
            "text/plain": [
              "LogisticRegression(max_iter=10000, warm_start=True)"
            ],
            "text/html": [
              "<style>#sk-container-id-1 {color: black;background-color: white;}#sk-container-id-1 pre{padding: 0;}#sk-container-id-1 div.sk-toggleable {background-color: white;}#sk-container-id-1 label.sk-toggleable__label {cursor: pointer;display: block;width: 100%;margin-bottom: 0;padding: 0.3em;box-sizing: border-box;text-align: center;}#sk-container-id-1 label.sk-toggleable__label-arrow:before {content: \"▸\";float: left;margin-right: 0.25em;color: #696969;}#sk-container-id-1 label.sk-toggleable__label-arrow:hover:before {color: black;}#sk-container-id-1 div.sk-estimator:hover label.sk-toggleable__label-arrow:before {color: black;}#sk-container-id-1 div.sk-toggleable__content {max-height: 0;max-width: 0;overflow: hidden;text-align: left;background-color: #f0f8ff;}#sk-container-id-1 div.sk-toggleable__content pre {margin: 0.2em;color: black;border-radius: 0.25em;background-color: #f0f8ff;}#sk-container-id-1 input.sk-toggleable__control:checked~div.sk-toggleable__content {max-height: 200px;max-width: 100%;overflow: auto;}#sk-container-id-1 input.sk-toggleable__control:checked~label.sk-toggleable__label-arrow:before {content: \"▾\";}#sk-container-id-1 div.sk-estimator input.sk-toggleable__control:checked~label.sk-toggleable__label {background-color: #d4ebff;}#sk-container-id-1 div.sk-label input.sk-toggleable__control:checked~label.sk-toggleable__label {background-color: #d4ebff;}#sk-container-id-1 input.sk-hidden--visually {border: 0;clip: rect(1px 1px 1px 1px);clip: rect(1px, 1px, 1px, 1px);height: 1px;margin: -1px;overflow: hidden;padding: 0;position: absolute;width: 1px;}#sk-container-id-1 div.sk-estimator {font-family: monospace;background-color: #f0f8ff;border: 1px dotted black;border-radius: 0.25em;box-sizing: border-box;margin-bottom: 0.5em;}#sk-container-id-1 div.sk-estimator:hover {background-color: #d4ebff;}#sk-container-id-1 div.sk-parallel-item::after {content: \"\";width: 100%;border-bottom: 1px solid gray;flex-grow: 1;}#sk-container-id-1 div.sk-label:hover label.sk-toggleable__label {background-color: #d4ebff;}#sk-container-id-1 div.sk-serial::before {content: \"\";position: absolute;border-left: 1px solid gray;box-sizing: border-box;top: 0;bottom: 0;left: 50%;z-index: 0;}#sk-container-id-1 div.sk-serial {display: flex;flex-direction: column;align-items: center;background-color: white;padding-right: 0.2em;padding-left: 0.2em;position: relative;}#sk-container-id-1 div.sk-item {position: relative;z-index: 1;}#sk-container-id-1 div.sk-parallel {display: flex;align-items: stretch;justify-content: center;background-color: white;position: relative;}#sk-container-id-1 div.sk-item::before, #sk-container-id-1 div.sk-parallel-item::before {content: \"\";position: absolute;border-left: 1px solid gray;box-sizing: border-box;top: 0;bottom: 0;left: 50%;z-index: -1;}#sk-container-id-1 div.sk-parallel-item {display: flex;flex-direction: column;z-index: 1;position: relative;background-color: white;}#sk-container-id-1 div.sk-parallel-item:first-child::after {align-self: flex-end;width: 50%;}#sk-container-id-1 div.sk-parallel-item:last-child::after {align-self: flex-start;width: 50%;}#sk-container-id-1 div.sk-parallel-item:only-child::after {width: 0;}#sk-container-id-1 div.sk-dashed-wrapped {border: 1px dashed gray;margin: 0 0.4em 0.5em 0.4em;box-sizing: border-box;padding-bottom: 0.4em;background-color: white;}#sk-container-id-1 div.sk-label label {font-family: monospace;font-weight: bold;display: inline-block;line-height: 1.2em;}#sk-container-id-1 div.sk-label-container {text-align: center;}#sk-container-id-1 div.sk-container {/* jupyter's `normalize.less` sets `[hidden] { display: none; }` but bootstrap.min.css set `[hidden] { display: none !important; }` so we also need the `!important` here to be able to override the default hidden behavior on the sphinx rendered scikit-learn.org. See: https://github.com/scikit-learn/scikit-learn/issues/21755 */display: inline-block !important;position: relative;}#sk-container-id-1 div.sk-text-repr-fallback {display: none;}</style><div id=\"sk-container-id-1\" class=\"sk-top-container\"><div class=\"sk-text-repr-fallback\"><pre>LogisticRegression(max_iter=10000, warm_start=True)</pre><b>In a Jupyter environment, please rerun this cell to show the HTML representation or trust the notebook. <br />On GitHub, the HTML representation is unable to render, please try loading this page with nbviewer.org.</b></div><div class=\"sk-container\" hidden><div class=\"sk-item\"><div class=\"sk-estimator sk-toggleable\"><input class=\"sk-toggleable__control sk-hidden--visually\" id=\"sk-estimator-id-1\" type=\"checkbox\" checked><label for=\"sk-estimator-id-1\" class=\"sk-toggleable__label sk-toggleable__label-arrow\">LogisticRegression</label><div class=\"sk-toggleable__content\"><pre>LogisticRegression(max_iter=10000, warm_start=True)</pre></div></div></div></div></div>"
            ]
          },
          "metadata": {},
          "execution_count": 19
        }
      ]
    },
    {
      "cell_type": "code",
      "source": [
        "rating_tourn = lr.coef_[0, :len(tourn_ids)]\n",
        "rating_players = lr.coef_[0, len(tourn_ids):]\n",
        "print(rating_tourn.min(), rating_tourn.max())\n",
        "print(rating_players.min(), rating_players.max())"
      ],
      "metadata": {
        "colab": {
          "base_uri": "https://localhost:8080/"
        },
        "id": "7NE-Y6zK93sJ",
        "outputId": "b12f6db0-0abb-4d3b-de4f-db5b78178f1f"
      },
      "execution_count": null,
      "outputs": [
        {
          "output_type": "stream",
          "name": "stdout",
          "text": [
            "-14.145534589656382 0.0\n",
            "-3.2467042153889993 3.901418386892662\n"
          ]
        }
      ]
    },
    {
      "cell_type": "code",
      "source": [
        "# \n",
        "tourn_train.loc[tourn_ids[np.argpartition(rating_tourn[rating_tourn < 0], -10)[-10:]]]\n",
        "# rating_tourn[np.argpartition(rating_tourn, -10)]"
      ],
      "metadata": {
        "colab": {
          "base_uri": "https://localhost:8080/",
          "height": 750
        },
        "id": "VuOvIUXIANDk",
        "outputId": "2bd16b34-4166-4bd5-cbe8-67b950a2649b"
      },
      "execution_count": null,
      "outputs": [
        {
          "output_type": "execute_result",
          "data": {
            "text/plain": [
              "                                                   name  \\\n",
              "id                                                        \n",
              "5693                                   Знание – Сила VI   \n",
              "5564         Молодёжный чемпионат Нижегородской области   \n",
              "5785                                 Зеркало Знатокиады   \n",
              "5947                   Чемпионат Мира. Этап 3. Группа С   \n",
              "5457     Студенческий чемпионат Калининградской области   \n",
              "5948                    Чемпионат Мира. Финал. Группа А   \n",
              "5982                                           ОК СПбГУ   \n",
              "6123  Чемпионат МГУ. Открытая лига. Второй игровой день   \n",
              "5927                                Кубок пустого стула   \n",
              "5013             (а)Синхрон-lite. Лига старта. Эпизод V   \n",
              "\n",
              "                      dateStart                    dateEnd  \\\n",
              "id                                                           \n",
              "5693  2019-08-16T19:00:00+03:00  2019-08-20T19:00:00+03:00   \n",
              "5564  2019-02-01T00:00:00+03:00  2019-03-03T00:00:00+03:00   \n",
              "5785  2019-07-19T18:00:00+03:00  2019-07-23T18:00:00+03:00   \n",
              "5947  2019-09-08T11:00:00+03:00  2019-09-08T13:00:00+03:00   \n",
              "5457  2019-02-16T14:00:00+03:00  2019-02-16T19:00:00+03:00   \n",
              "5948  2019-09-08T15:30:00+03:00  2019-09-08T17:30:00+03:00   \n",
              "5982  2019-11-24T12:00:00+03:00  2019-11-24T18:00:00+03:00   \n",
              "6123  2019-12-09T19:00:00+03:00  2019-12-09T22:00:00+03:00   \n",
              "5927  2019-11-08T19:00:00+03:00  2019-11-12T19:00:00+03:00   \n",
              "5013  2019-04-05T12:00:00+03:00  2019-05-05T23:55:00+03:00   \n",
              "\n",
              "                               type       season  \\\n",
              "id                                                 \n",
              "5693   {'id': 3, 'name': 'Синхрон'}  /seasons/52   \n",
              "5564   {'id': 2, 'name': 'Обычный'}  /seasons/52   \n",
              "5785   {'id': 3, 'name': 'Синхрон'}  /seasons/52   \n",
              "5947   {'id': 2, 'name': 'Обычный'}  /seasons/53   \n",
              "5457   {'id': 2, 'name': 'Обычный'}  /seasons/52   \n",
              "5948   {'id': 2, 'name': 'Обычный'}  /seasons/53   \n",
              "5982   {'id': 2, 'name': 'Обычный'}  /seasons/53   \n",
              "6123   {'id': 2, 'name': 'Обычный'}  /seasons/53   \n",
              "5927   {'id': 3, 'name': 'Синхрон'}  /seasons/53   \n",
              "5013  {'id': 8, 'name': 'Асинхрон'}  /seasons/52   \n",
              "\n",
              "                                           orgcommittee  \\\n",
              "id                                                        \n",
              "5693  [{'id': 36120, 'name': 'Серафим', 'patronymic'...   \n",
              "5564  [{'id': 32901, 'name': 'Наиль', 'patronymic': ...   \n",
              "5785  [{'id': 7119, 'name': 'Арсений', 'patronymic':...   \n",
              "5947  [{'id': 27247, 'name': 'Александр', 'patronymi...   \n",
              "5457  [{'id': 90340, 'name': 'Дмитрий', 'patronymic'...   \n",
              "5948  [{'id': 27247, 'name': 'Александр', 'patronymi...   \n",
              "5982  [{'id': 119352, 'name': 'Матвей', 'patronymic'...   \n",
              "6123  [{'id': 5990, 'name': 'Андрей', 'patronymic': ...   \n",
              "5927  [{'id': 4414, 'name': 'Александр', 'patronymic...   \n",
              "5013  [{'id': 23740, 'name': 'Владимир', 'patronymic...   \n",
              "\n",
              "                                              synchData  \\\n",
              "id                                                        \n",
              "5693  {'dateRequestsAllowedTo': '2019-08-20T23:59:59...   \n",
              "5564                                               None   \n",
              "5785  {'dateRequestsAllowedTo': '2019-07-23T23:59:59...   \n",
              "5947                                               None   \n",
              "5457                                               None   \n",
              "5948                                               None   \n",
              "5982                                               None   \n",
              "6123                                               None   \n",
              "5927  {'dateRequestsAllowedTo': '2019-11-11T23:59:00...   \n",
              "5013  {'dateRequestsAllowedTo': '2019-05-03T23:59:59...   \n",
              "\n",
              "                                            questionQty  \n",
              "id                                                       \n",
              "5693                        {'1': 12, '2': 12, '3': 12}  \n",
              "5564  {'1': 12, '2': 12, '3': 12, '4': 12, '5': 12, ...  \n",
              "5785                        {'1': 12, '2': 12, '3': 12}  \n",
              "5947                                 {'1': 15, '2': 15}  \n",
              "5457                        {'1': 15, '2': 15, '3': 15}  \n",
              "5948                                 {'1': 15, '2': 15}  \n",
              "5982               {'1': 15, '2': 15, '3': 15, '4': 15}  \n",
              "6123                        {'1': 12, '2': 12, '3': 12}  \n",
              "5927                        {'1': 12, '2': 12, '3': 12}  \n",
              "5013                        {'1': 12, '2': 12, '3': 12}  "
            ],
            "text/html": [
              "\n",
              "  <div id=\"df-e2b3854b-817d-49c4-9f1e-5240cbe5d436\">\n",
              "    <div class=\"colab-df-container\">\n",
              "      <div>\n",
              "<style scoped>\n",
              "    .dataframe tbody tr th:only-of-type {\n",
              "        vertical-align: middle;\n",
              "    }\n",
              "\n",
              "    .dataframe tbody tr th {\n",
              "        vertical-align: top;\n",
              "    }\n",
              "\n",
              "    .dataframe thead th {\n",
              "        text-align: right;\n",
              "    }\n",
              "</style>\n",
              "<table border=\"1\" class=\"dataframe\">\n",
              "  <thead>\n",
              "    <tr style=\"text-align: right;\">\n",
              "      <th></th>\n",
              "      <th>name</th>\n",
              "      <th>dateStart</th>\n",
              "      <th>dateEnd</th>\n",
              "      <th>type</th>\n",
              "      <th>season</th>\n",
              "      <th>orgcommittee</th>\n",
              "      <th>synchData</th>\n",
              "      <th>questionQty</th>\n",
              "    </tr>\n",
              "    <tr>\n",
              "      <th>id</th>\n",
              "      <th></th>\n",
              "      <th></th>\n",
              "      <th></th>\n",
              "      <th></th>\n",
              "      <th></th>\n",
              "      <th></th>\n",
              "      <th></th>\n",
              "      <th></th>\n",
              "    </tr>\n",
              "  </thead>\n",
              "  <tbody>\n",
              "    <tr>\n",
              "      <th>5693</th>\n",
              "      <td>Знание – Сила VI</td>\n",
              "      <td>2019-08-16T19:00:00+03:00</td>\n",
              "      <td>2019-08-20T19:00:00+03:00</td>\n",
              "      <td>{'id': 3, 'name': 'Синхрон'}</td>\n",
              "      <td>/seasons/52</td>\n",
              "      <td>[{'id': 36120, 'name': 'Серафим', 'patronymic'...</td>\n",
              "      <td>{'dateRequestsAllowedTo': '2019-08-20T23:59:59...</td>\n",
              "      <td>{'1': 12, '2': 12, '3': 12}</td>\n",
              "    </tr>\n",
              "    <tr>\n",
              "      <th>5564</th>\n",
              "      <td>Молодёжный чемпионат Нижегородской области</td>\n",
              "      <td>2019-02-01T00:00:00+03:00</td>\n",
              "      <td>2019-03-03T00:00:00+03:00</td>\n",
              "      <td>{'id': 2, 'name': 'Обычный'}</td>\n",
              "      <td>/seasons/52</td>\n",
              "      <td>[{'id': 32901, 'name': 'Наиль', 'patronymic': ...</td>\n",
              "      <td>None</td>\n",
              "      <td>{'1': 12, '2': 12, '3': 12, '4': 12, '5': 12, ...</td>\n",
              "    </tr>\n",
              "    <tr>\n",
              "      <th>5785</th>\n",
              "      <td>Зеркало Знатокиады</td>\n",
              "      <td>2019-07-19T18:00:00+03:00</td>\n",
              "      <td>2019-07-23T18:00:00+03:00</td>\n",
              "      <td>{'id': 3, 'name': 'Синхрон'}</td>\n",
              "      <td>/seasons/52</td>\n",
              "      <td>[{'id': 7119, 'name': 'Арсений', 'patronymic':...</td>\n",
              "      <td>{'dateRequestsAllowedTo': '2019-07-23T23:59:59...</td>\n",
              "      <td>{'1': 12, '2': 12, '3': 12}</td>\n",
              "    </tr>\n",
              "    <tr>\n",
              "      <th>5947</th>\n",
              "      <td>Чемпионат Мира. Этап 3. Группа С</td>\n",
              "      <td>2019-09-08T11:00:00+03:00</td>\n",
              "      <td>2019-09-08T13:00:00+03:00</td>\n",
              "      <td>{'id': 2, 'name': 'Обычный'}</td>\n",
              "      <td>/seasons/53</td>\n",
              "      <td>[{'id': 27247, 'name': 'Александр', 'patronymi...</td>\n",
              "      <td>None</td>\n",
              "      <td>{'1': 15, '2': 15}</td>\n",
              "    </tr>\n",
              "    <tr>\n",
              "      <th>5457</th>\n",
              "      <td>Студенческий чемпионат Калининградской области</td>\n",
              "      <td>2019-02-16T14:00:00+03:00</td>\n",
              "      <td>2019-02-16T19:00:00+03:00</td>\n",
              "      <td>{'id': 2, 'name': 'Обычный'}</td>\n",
              "      <td>/seasons/52</td>\n",
              "      <td>[{'id': 90340, 'name': 'Дмитрий', 'patronymic'...</td>\n",
              "      <td>None</td>\n",
              "      <td>{'1': 15, '2': 15, '3': 15}</td>\n",
              "    </tr>\n",
              "    <tr>\n",
              "      <th>5948</th>\n",
              "      <td>Чемпионат Мира. Финал. Группа А</td>\n",
              "      <td>2019-09-08T15:30:00+03:00</td>\n",
              "      <td>2019-09-08T17:30:00+03:00</td>\n",
              "      <td>{'id': 2, 'name': 'Обычный'}</td>\n",
              "      <td>/seasons/53</td>\n",
              "      <td>[{'id': 27247, 'name': 'Александр', 'patronymi...</td>\n",
              "      <td>None</td>\n",
              "      <td>{'1': 15, '2': 15}</td>\n",
              "    </tr>\n",
              "    <tr>\n",
              "      <th>5982</th>\n",
              "      <td>ОК СПбГУ</td>\n",
              "      <td>2019-11-24T12:00:00+03:00</td>\n",
              "      <td>2019-11-24T18:00:00+03:00</td>\n",
              "      <td>{'id': 2, 'name': 'Обычный'}</td>\n",
              "      <td>/seasons/53</td>\n",
              "      <td>[{'id': 119352, 'name': 'Матвей', 'patronymic'...</td>\n",
              "      <td>None</td>\n",
              "      <td>{'1': 15, '2': 15, '3': 15, '4': 15}</td>\n",
              "    </tr>\n",
              "    <tr>\n",
              "      <th>6123</th>\n",
              "      <td>Чемпионат МГУ. Открытая лига. Второй игровой день</td>\n",
              "      <td>2019-12-09T19:00:00+03:00</td>\n",
              "      <td>2019-12-09T22:00:00+03:00</td>\n",
              "      <td>{'id': 2, 'name': 'Обычный'}</td>\n",
              "      <td>/seasons/53</td>\n",
              "      <td>[{'id': 5990, 'name': 'Андрей', 'patronymic': ...</td>\n",
              "      <td>None</td>\n",
              "      <td>{'1': 12, '2': 12, '3': 12}</td>\n",
              "    </tr>\n",
              "    <tr>\n",
              "      <th>5927</th>\n",
              "      <td>Кубок пустого стула</td>\n",
              "      <td>2019-11-08T19:00:00+03:00</td>\n",
              "      <td>2019-11-12T19:00:00+03:00</td>\n",
              "      <td>{'id': 3, 'name': 'Синхрон'}</td>\n",
              "      <td>/seasons/53</td>\n",
              "      <td>[{'id': 4414, 'name': 'Александр', 'patronymic...</td>\n",
              "      <td>{'dateRequestsAllowedTo': '2019-11-11T23:59:00...</td>\n",
              "      <td>{'1': 12, '2': 12, '3': 12}</td>\n",
              "    </tr>\n",
              "    <tr>\n",
              "      <th>5013</th>\n",
              "      <td>(а)Синхрон-lite. Лига старта. Эпизод V</td>\n",
              "      <td>2019-04-05T12:00:00+03:00</td>\n",
              "      <td>2019-05-05T23:55:00+03:00</td>\n",
              "      <td>{'id': 8, 'name': 'Асинхрон'}</td>\n",
              "      <td>/seasons/52</td>\n",
              "      <td>[{'id': 23740, 'name': 'Владимир', 'patronymic...</td>\n",
              "      <td>{'dateRequestsAllowedTo': '2019-05-03T23:59:59...</td>\n",
              "      <td>{'1': 12, '2': 12, '3': 12}</td>\n",
              "    </tr>\n",
              "  </tbody>\n",
              "</table>\n",
              "</div>\n",
              "      <button class=\"colab-df-convert\" onclick=\"convertToInteractive('df-e2b3854b-817d-49c4-9f1e-5240cbe5d436')\"\n",
              "              title=\"Convert this dataframe to an interactive table.\"\n",
              "              style=\"display:none;\">\n",
              "        \n",
              "  <svg xmlns=\"http://www.w3.org/2000/svg\" height=\"24px\"viewBox=\"0 0 24 24\"\n",
              "       width=\"24px\">\n",
              "    <path d=\"M0 0h24v24H0V0z\" fill=\"none\"/>\n",
              "    <path d=\"M18.56 5.44l.94 2.06.94-2.06 2.06-.94-2.06-.94-.94-2.06-.94 2.06-2.06.94zm-11 1L8.5 8.5l.94-2.06 2.06-.94-2.06-.94L8.5 2.5l-.94 2.06-2.06.94zm10 10l.94 2.06.94-2.06 2.06-.94-2.06-.94-.94-2.06-.94 2.06-2.06.94z\"/><path d=\"M17.41 7.96l-1.37-1.37c-.4-.4-.92-.59-1.43-.59-.52 0-1.04.2-1.43.59L10.3 9.45l-7.72 7.72c-.78.78-.78 2.05 0 2.83L4 21.41c.39.39.9.59 1.41.59.51 0 1.02-.2 1.41-.59l7.78-7.78 2.81-2.81c.8-.78.8-2.07 0-2.86zM5.41 20L4 18.59l7.72-7.72 1.47 1.35L5.41 20z\"/>\n",
              "  </svg>\n",
              "      </button>\n",
              "      \n",
              "  <style>\n",
              "    .colab-df-container {\n",
              "      display:flex;\n",
              "      flex-wrap:wrap;\n",
              "      gap: 12px;\n",
              "    }\n",
              "\n",
              "    .colab-df-convert {\n",
              "      background-color: #E8F0FE;\n",
              "      border: none;\n",
              "      border-radius: 50%;\n",
              "      cursor: pointer;\n",
              "      display: none;\n",
              "      fill: #1967D2;\n",
              "      height: 32px;\n",
              "      padding: 0 0 0 0;\n",
              "      width: 32px;\n",
              "    }\n",
              "\n",
              "    .colab-df-convert:hover {\n",
              "      background-color: #E2EBFA;\n",
              "      box-shadow: 0px 1px 2px rgba(60, 64, 67, 0.3), 0px 1px 3px 1px rgba(60, 64, 67, 0.15);\n",
              "      fill: #174EA6;\n",
              "    }\n",
              "\n",
              "    [theme=dark] .colab-df-convert {\n",
              "      background-color: #3B4455;\n",
              "      fill: #D2E3FC;\n",
              "    }\n",
              "\n",
              "    [theme=dark] .colab-df-convert:hover {\n",
              "      background-color: #434B5C;\n",
              "      box-shadow: 0px 1px 3px 1px rgba(0, 0, 0, 0.15);\n",
              "      filter: drop-shadow(0px 1px 2px rgba(0, 0, 0, 0.3));\n",
              "      fill: #FFFFFF;\n",
              "    }\n",
              "  </style>\n",
              "\n",
              "      <script>\n",
              "        const buttonEl =\n",
              "          document.querySelector('#df-e2b3854b-817d-49c4-9f1e-5240cbe5d436 button.colab-df-convert');\n",
              "        buttonEl.style.display =\n",
              "          google.colab.kernel.accessAllowed ? 'block' : 'none';\n",
              "\n",
              "        async function convertToInteractive(key) {\n",
              "          const element = document.querySelector('#df-e2b3854b-817d-49c4-9f1e-5240cbe5d436');\n",
              "          const dataTable =\n",
              "            await google.colab.kernel.invokeFunction('convertToInteractive',\n",
              "                                                     [key], {});\n",
              "          if (!dataTable) return;\n",
              "\n",
              "          const docLinkHtml = 'Like what you see? Visit the ' +\n",
              "            '<a target=\"_blank\" href=https://colab.research.google.com/notebooks/data_table.ipynb>data table notebook</a>'\n",
              "            + ' to learn more about interactive tables.';\n",
              "          element.innerHTML = '';\n",
              "          dataTable['output_type'] = 'display_data';\n",
              "          await google.colab.output.renderOutput(dataTable, element);\n",
              "          const docLink = document.createElement('div');\n",
              "          docLink.innerHTML = docLinkHtml;\n",
              "          element.appendChild(docLink);\n",
              "        }\n",
              "      </script>\n",
              "    </div>\n",
              "  </div>\n",
              "  "
            ]
          },
          "metadata": {},
          "execution_count": 21
        }
      ]
    },
    {
      "cell_type": "code",
      "source": [
        "players.loc[player_ids[np.argpartition(rating_players, -10)[-10:]]]\n"
      ],
      "metadata": {
        "colab": {
          "base_uri": "https://localhost:8080/",
          "height": 394
        },
        "id": "RCSuTgPi3kr-",
        "outputId": "de52b8ba-3644-4b72-d588-5005fb94b2ba"
      },
      "execution_count": null,
      "outputs": [
        {
          "output_type": "execute_result",
          "data": {
            "text/plain": [
              "             name    patronymic       surname\n",
              "id                                           \n",
              "26089       Ирина     Сергеевна    Прокофьева\n",
              "22799      Сергей      Игоревич     Николенко\n",
              "20691   Станислав   Григорьевич   Мереминский\n",
              "18036      Михаил         Ильич  Левандовский\n",
              "30152       Артём     Сергеевич      Сорожкин\n",
              "27822      Михаил  Владимирович     Савченков\n",
              "27403      Максим    Михайлович         Руссо\n",
              "30270      Сергей    Леонидович       Спешков\n",
              "28751        Иван    Николаевич       Семушин\n",
              "4270   Александра  Владимировна        Брутер"
            ],
            "text/html": [
              "\n",
              "  <div id=\"df-07037a04-a545-4013-ab08-ba40869ba4f5\">\n",
              "    <div class=\"colab-df-container\">\n",
              "      <div>\n",
              "<style scoped>\n",
              "    .dataframe tbody tr th:only-of-type {\n",
              "        vertical-align: middle;\n",
              "    }\n",
              "\n",
              "    .dataframe tbody tr th {\n",
              "        vertical-align: top;\n",
              "    }\n",
              "\n",
              "    .dataframe thead th {\n",
              "        text-align: right;\n",
              "    }\n",
              "</style>\n",
              "<table border=\"1\" class=\"dataframe\">\n",
              "  <thead>\n",
              "    <tr style=\"text-align: right;\">\n",
              "      <th></th>\n",
              "      <th>name</th>\n",
              "      <th>patronymic</th>\n",
              "      <th>surname</th>\n",
              "    </tr>\n",
              "    <tr>\n",
              "      <th>id</th>\n",
              "      <th></th>\n",
              "      <th></th>\n",
              "      <th></th>\n",
              "    </tr>\n",
              "  </thead>\n",
              "  <tbody>\n",
              "    <tr>\n",
              "      <th>26089</th>\n",
              "      <td>Ирина</td>\n",
              "      <td>Сергеевна</td>\n",
              "      <td>Прокофьева</td>\n",
              "    </tr>\n",
              "    <tr>\n",
              "      <th>22799</th>\n",
              "      <td>Сергей</td>\n",
              "      <td>Игоревич</td>\n",
              "      <td>Николенко</td>\n",
              "    </tr>\n",
              "    <tr>\n",
              "      <th>20691</th>\n",
              "      <td>Станислав</td>\n",
              "      <td>Григорьевич</td>\n",
              "      <td>Мереминский</td>\n",
              "    </tr>\n",
              "    <tr>\n",
              "      <th>18036</th>\n",
              "      <td>Михаил</td>\n",
              "      <td>Ильич</td>\n",
              "      <td>Левандовский</td>\n",
              "    </tr>\n",
              "    <tr>\n",
              "      <th>30152</th>\n",
              "      <td>Артём</td>\n",
              "      <td>Сергеевич</td>\n",
              "      <td>Сорожкин</td>\n",
              "    </tr>\n",
              "    <tr>\n",
              "      <th>27822</th>\n",
              "      <td>Михаил</td>\n",
              "      <td>Владимирович</td>\n",
              "      <td>Савченков</td>\n",
              "    </tr>\n",
              "    <tr>\n",
              "      <th>27403</th>\n",
              "      <td>Максим</td>\n",
              "      <td>Михайлович</td>\n",
              "      <td>Руссо</td>\n",
              "    </tr>\n",
              "    <tr>\n",
              "      <th>30270</th>\n",
              "      <td>Сергей</td>\n",
              "      <td>Леонидович</td>\n",
              "      <td>Спешков</td>\n",
              "    </tr>\n",
              "    <tr>\n",
              "      <th>28751</th>\n",
              "      <td>Иван</td>\n",
              "      <td>Николаевич</td>\n",
              "      <td>Семушин</td>\n",
              "    </tr>\n",
              "    <tr>\n",
              "      <th>4270</th>\n",
              "      <td>Александра</td>\n",
              "      <td>Владимировна</td>\n",
              "      <td>Брутер</td>\n",
              "    </tr>\n",
              "  </tbody>\n",
              "</table>\n",
              "</div>\n",
              "      <button class=\"colab-df-convert\" onclick=\"convertToInteractive('df-07037a04-a545-4013-ab08-ba40869ba4f5')\"\n",
              "              title=\"Convert this dataframe to an interactive table.\"\n",
              "              style=\"display:none;\">\n",
              "        \n",
              "  <svg xmlns=\"http://www.w3.org/2000/svg\" height=\"24px\"viewBox=\"0 0 24 24\"\n",
              "       width=\"24px\">\n",
              "    <path d=\"M0 0h24v24H0V0z\" fill=\"none\"/>\n",
              "    <path d=\"M18.56 5.44l.94 2.06.94-2.06 2.06-.94-2.06-.94-.94-2.06-.94 2.06-2.06.94zm-11 1L8.5 8.5l.94-2.06 2.06-.94-2.06-.94L8.5 2.5l-.94 2.06-2.06.94zm10 10l.94 2.06.94-2.06 2.06-.94-2.06-.94-.94-2.06-.94 2.06-2.06.94z\"/><path d=\"M17.41 7.96l-1.37-1.37c-.4-.4-.92-.59-1.43-.59-.52 0-1.04.2-1.43.59L10.3 9.45l-7.72 7.72c-.78.78-.78 2.05 0 2.83L4 21.41c.39.39.9.59 1.41.59.51 0 1.02-.2 1.41-.59l7.78-7.78 2.81-2.81c.8-.78.8-2.07 0-2.86zM5.41 20L4 18.59l7.72-7.72 1.47 1.35L5.41 20z\"/>\n",
              "  </svg>\n",
              "      </button>\n",
              "      \n",
              "  <style>\n",
              "    .colab-df-container {\n",
              "      display:flex;\n",
              "      flex-wrap:wrap;\n",
              "      gap: 12px;\n",
              "    }\n",
              "\n",
              "    .colab-df-convert {\n",
              "      background-color: #E8F0FE;\n",
              "      border: none;\n",
              "      border-radius: 50%;\n",
              "      cursor: pointer;\n",
              "      display: none;\n",
              "      fill: #1967D2;\n",
              "      height: 32px;\n",
              "      padding: 0 0 0 0;\n",
              "      width: 32px;\n",
              "    }\n",
              "\n",
              "    .colab-df-convert:hover {\n",
              "      background-color: #E2EBFA;\n",
              "      box-shadow: 0px 1px 2px rgba(60, 64, 67, 0.3), 0px 1px 3px 1px rgba(60, 64, 67, 0.15);\n",
              "      fill: #174EA6;\n",
              "    }\n",
              "\n",
              "    [theme=dark] .colab-df-convert {\n",
              "      background-color: #3B4455;\n",
              "      fill: #D2E3FC;\n",
              "    }\n",
              "\n",
              "    [theme=dark] .colab-df-convert:hover {\n",
              "      background-color: #434B5C;\n",
              "      box-shadow: 0px 1px 3px 1px rgba(0, 0, 0, 0.15);\n",
              "      filter: drop-shadow(0px 1px 2px rgba(0, 0, 0, 0.3));\n",
              "      fill: #FFFFFF;\n",
              "    }\n",
              "  </style>\n",
              "\n",
              "      <script>\n",
              "        const buttonEl =\n",
              "          document.querySelector('#df-07037a04-a545-4013-ab08-ba40869ba4f5 button.colab-df-convert');\n",
              "        buttonEl.style.display =\n",
              "          google.colab.kernel.accessAllowed ? 'block' : 'none';\n",
              "\n",
              "        async function convertToInteractive(key) {\n",
              "          const element = document.querySelector('#df-07037a04-a545-4013-ab08-ba40869ba4f5');\n",
              "          const dataTable =\n",
              "            await google.colab.kernel.invokeFunction('convertToInteractive',\n",
              "                                                     [key], {});\n",
              "          if (!dataTable) return;\n",
              "\n",
              "          const docLinkHtml = 'Like what you see? Visit the ' +\n",
              "            '<a target=\"_blank\" href=https://colab.research.google.com/notebooks/data_table.ipynb>data table notebook</a>'\n",
              "            + ' to learn more about interactive tables.';\n",
              "          element.innerHTML = '';\n",
              "          dataTable['output_type'] = 'display_data';\n",
              "          await google.colab.output.renderOutput(dataTable, element);\n",
              "          const docLink = document.createElement('div');\n",
              "          docLink.innerHTML = docLinkHtml;\n",
              "          element.appendChild(docLink);\n",
              "        }\n",
              "      </script>\n",
              "    </div>\n",
              "  </div>\n",
              "  "
            ]
          },
          "metadata": {},
          "execution_count": 22
        }
      ]
    },
    {
      "cell_type": "markdown",
      "source": [
        "Предсказание сложности турниров похоже на правду, рейтинг игроков похож на рейтинг за 2019 год."
      ],
      "metadata": {
        "id": "1axuQ85vzF8u"
      }
    },
    {
      "cell_type": "code",
      "source": [
        "from scipy import stats\n",
        "\n",
        "def evaluate(rating_players):\n",
        "    res = []\n",
        "    for _, tourn_id in enumerate(test.tourn_id.unique()):\n",
        "        df = pd.DataFrame()\n",
        "        \n",
        "        tourn = test[test.tourn_id == tourn_id].copy()\n",
        "        tourn['performance_predicted'] = 0\n",
        "        tourn['performance_actual'] = 0\n",
        "        try:\n",
        "            ans_arr, _ = get_complexity_data(tourn)\n",
        "        except TypeError:\n",
        "            continue\n",
        "        assert len(tourn) == ans_arr.shape[0]\n",
        "        for idx, answers in zip(range(len(tourn)), ans_arr):\n",
        "            try:\n",
        "              \n",
        "                player_idx = player_id2idx[int(tourn.iloc[idx, 1])]\n",
        "            except (ValueError, KeyError):\n",
        "                tourn.iloc[idx, 4] = np.nan\n",
        "            else:\n",
        "                #\n",
        "                tourn.iloc[idx, 4] = rating_players[player_idx]\n",
        "            \n",
        "            tourn.iloc[idx, 5] = answers.sum()\n",
        "\n",
        "        tourn.dropna(axis=0, inplace=True, how='any')\n",
        "        # tourn.set_index('player_id')\n",
        "        \n",
        "        res.append([\n",
        "            stats.spearmanr(tourn['performance_actual'], tourn['performance_predicted']).statistic, \n",
        "            stats.kendalltau(tourn['performance_actual'], tourn['performance_predicted']).statistic\n",
        "        ])\n",
        "    res = np.asarray(res)\n",
        "    return np.nanmean(res, axis=0) # array([0.72223742, 0.55741029])\n",
        "\n",
        "# Турниры, где есть несколько туров, тестовое множество\n",
        "# 5477\n",
        "# 5705\n",
        "# 5710\n",
        "# 5733\n",
        "# 6172\n",
        "# 6265\n",
        "# 6307\n",
        "# 6308"
      ],
      "metadata": {
        "id": "JaUVtdl9Rc9R"
      },
      "execution_count": null,
      "outputs": []
    },
    {
      "cell_type": "code",
      "source": [
        "evaluate(rating_players)  "
      ],
      "metadata": {
        "colab": {
          "base_uri": "https://localhost:8080/"
        },
        "id": "cuEaIoFmcu4O",
        "outputId": "ebe29f40-3d13-4937-94b0-21ecd43ef885"
      },
      "execution_count": null,
      "outputs": [
        {
          "output_type": "stream",
          "name": "stderr",
          "text": [
            "/usr/local/lib/python3.9/dist-packages/scipy/stats/_stats_py.py:4916: ConstantInputWarning: An input array is constant; the correlation coefficient is not defined.\n",
            "  warnings.warn(stats.ConstantInputWarning(warn_msg))\n"
          ]
        },
        {
          "output_type": "execute_result",
          "data": {
            "text/plain": [
              "array([0.72223742, 0.55741029])"
            ]
          },
          "metadata": {},
          "execution_count": 24
        }
      ]
    },
    {
      "cell_type": "markdown",
      "source": [
        "Ранговые корреляции [0.72223742, 0.55741029]"
      ],
      "metadata": {
        "id": "eDHQRdHYzP24"
      }
    },
    {
      "cell_type": "markdown",
      "source": [
        "## EM-алгоритм"
      ],
      "metadata": {
        "id": "u5-zLU0XzlDF"
      }
    },
    {
      "cell_type": "code",
      "source": [
        "lin = nn.Linear(lr.coef_.shape[1], 2)\n",
        "with torch.no_grad():\n",
        "    lin.weight.copy_(torch.from_numpy(np.vstack((-lr.coef_, lr.coef_))))\n",
        "\n",
        "# lr2 = nn.Sequential(\n",
        "#     nn.Linear(lr.coef_.shape[1], 1),\n",
        "#     # nn.Sigmoid()\n",
        "# )\n",
        "\n",
        "loss_function = nn.BCELoss()\n",
        "opt = torch.optim.Adam(lin.parameters(), lr=1.e-1)"
      ],
      "metadata": {
        "id": "owgOpbptzKyX"
      },
      "execution_count": null,
      "outputs": []
    },
    {
      "cell_type": "code",
      "source": [
        "values = X_train.data\n",
        "indices = np.vstack((X_train.row, X_train.col))\n",
        "\n",
        "i = torch.LongTensor(indices)\n",
        "v = torch.FloatTensor(values)\n",
        "shape = X_train.shape\n",
        "\n",
        "X_train_torch = torch.sparse.FloatTensor(i, v, torch.Size(shape))\n",
        "X_train_torch.requires_grad = False"
      ],
      "metadata": {
        "id": "8knn80BBw2M6"
      },
      "execution_count": null,
      "outputs": []
    },
    {
      "cell_type": "markdown",
      "source": [
        "Скрытые переменные $z_{ij}$ - $i$-ый игрок ответил на $j$-ый вопрос"
      ],
      "metadata": {
        "id": "pkutXwY96K67"
      }
    },
    {
      "cell_type": "code",
      "source": [
        "import time\n",
        "y_target = torch.Tensor(16153927, 2)\n",
        "\n",
        "n_iter = 600\n",
        "losses = np.empty((n_iter,))\n",
        "for _ in range(3):\n",
        "    t0 = time.time()\n",
        "    with torch.no_grad():\n",
        "        sig_feat_dot_w = (1 / (1 + np.exp(-lin(X_train_torch)[:, 1]))).unsqueeze(-1)\n",
        "        \n",
        "        y_train['numerator'] = np.where(np.expand_dims(y_train.value.to_numpy(), -1), sig_feat_dot_w, 0)\n",
        "        \n",
        "        y_train['denominator'] = 1 - y_train['numerator']\n",
        "        df_tourn_team_que_denominators = y_train[['tourn_id', 'que_idx', 'team_id', 'denominator']]\\\n",
        "            .groupby(['tourn_id', 'que_idx', 'team_id'])\\\n",
        "            .agg(np.prod)\\\n",
        "            .reset_index()\n",
        "        \n",
        "        y_train.denominator = y_train[['tourn_id', 'que_idx', 'team_id']]\\\n",
        "            .merge(df_tourn_team_que_denominators, how='left', on=['tourn_id', 'que_idx', 'team_id'])['denominator']\n",
        "        y_train.denominator = 1. - y_train.denominator\n",
        "        y_train.denominator = np.where(y_train.iloc[:, 5:6].to_numpy(), y_train.iloc[:, 4:5].to_numpy(), 1)\n",
        "        \n",
        "        t1 = time.time()\n",
        "        print(f'phase 1 done: {t1 - t0} s')\n",
        "        t0 = t1\n",
        "    \n",
        "    for i_iter in range(n_iter):\n",
        "        y_predicted = 1 / (1 + torch.exp(-lin(X_train_torch)))\n",
        "        \n",
        "        y_target[:, 1] = torch.Tensor(y_train['numerator']/y_train['denominator'])\n",
        "        y_target[:, 0] = 1 - y_target[:, 1]\n",
        "        # torch.clamp(y_target, 1.e-8, 1 - 1.e-8)\n",
        "        # y_target[:, :] = torch.log(y_target/(1 - y_target))\n",
        "        \n",
        "        loss = loss_function(y_predicted, y_target)\n",
        "        losses[i_iter] = loss.detach().item()\n",
        "        if i_iter % 30 == 0:\n",
        "            print(losses[i_iter])\n",
        "        if i_iter > 10 and loss > losses[i_iter-10:i_iter].mean().item():\n",
        "            print(i_iter)\n",
        "            break\n",
        "        loss.backward()\n",
        "        opt.step()\n",
        "        opt.zero_grad()\n",
        "        # with torch.no_grad():\n",
        "        #     coefficients = lin.weight.data.numpy()\n",
        "        # rating_players = coefficients[0, len(tourn_ids):]\n",
        "        # rating_tourn = coefficients[0, :len(tourn_ids)]\n",
        "        # print(evaluate(rating_players))\n",
        "\n",
        "    t1 = time.time()\n",
        "    print(f'phase 2 done: {t1 - t0} s')\n",
        "    t0 = t1\n",
        "    # \n",
        "    \n",
        "    with torch.no_grad():\n",
        "        coefficients = lin.weight.data.numpy()\n",
        "    rating_players = coefficients[1, len(tourn_ids):]\n",
        "    rating_tourn = coefficients[1, :len(tourn_ids)]\n",
        "    print(evaluate(rating_players))\n",
        "    print('--------------------------------------------------------')\n"
      ],
      "metadata": {
        "id": "sr2B9pLVRi4m",
        "colab": {
          "base_uri": "https://localhost:8080/"
        },
        "outputId": "ce4b8298-ee8f-466c-878f-c996aa5ee5cd"
      },
      "execution_count": null,
      "outputs": [
        {
          "metadata": {
            "tags": null
          },
          "name": "stdout",
          "output_type": "stream",
          "text": [
            "phase 1 done: 45.21315813064575 s\n",
            "0.3299317955970764\n",
            "0.3283604681491852\n",
            "0.32832247018814087\n",
            "0.3283204138278961\n",
            "0.32832011580467224\n",
            "0.3283199667930603\n",
            "0.32831984758377075\n",
            "0.3283197581768036\n",
            "0.3283197283744812\n",
            "250\n",
            "phase 2 done: 2237.161113023758 s\n"
          ]
        },
        {
          "metadata": {
            "tags": null
          },
          "name": "stderr",
          "output_type": "stream",
          "text": [
            "/usr/local/lib/python3.9/dist-packages/scipy/stats/_stats_py.py:4916: ConstantInputWarning: An input array is constant; the correlation coefficient is not defined.\n",
            "  warnings.warn(stats.ConstantInputWarning(warn_msg))\n"
          ]
        },
        {
          "output_type": "stream",
          "name": "stdout",
          "text": [
            "[0.71292584 0.54899086]\n",
            "--------------------------------------------------------\n",
            "phase 1 done: 45.70360589027405 s\n",
            "0.3263895809650421\n",
            "0.3257879614830017\n",
            "0.32577967643737793\n",
            "0.3257787525653839\n",
            "98\n",
            "phase 2 done: 863.2678110599518 s\n"
          ]
        },
        {
          "output_type": "stream",
          "name": "stderr",
          "text": [
            "/usr/local/lib/python3.9/dist-packages/scipy/stats/_stats_py.py:4916: ConstantInputWarning: An input array is constant; the correlation coefficient is not defined.\n",
            "  warnings.warn(stats.ConstantInputWarning(warn_msg))\n"
          ]
        },
        {
          "output_type": "stream",
          "name": "stdout",
          "text": [
            "[0.7005075  0.53711756]\n",
            "--------------------------------------------------------\n",
            "phase 1 done: 36.49315857887268 s\n",
            "0.3238833248615265\n",
            "0.32357683777809143\n",
            "0.32356852293014526\n",
            "84\n",
            "phase 2 done: 744.8884537220001 s\n",
            "[0.6881029  0.52582771]\n",
            "--------------------------------------------------------\n"
          ]
        },
        {
          "output_type": "stream",
          "name": "stderr",
          "text": [
            "/usr/local/lib/python3.9/dist-packages/scipy/stats/_stats_py.py:4916: ConstantInputWarning: An input array is constant; the correlation coefficient is not defined.\n",
            "  warnings.warn(stats.ConstantInputWarning(warn_msg))\n"
          ]
        }
      ]
    },
    {
      "cell_type": "markdown",
      "source": [
        "ЕМ-алгоритм как будто сходится, но ранговые корреляции падают, почему - непонятно. Единственная гипотеза - выучиваются сложности турниров, вместо силы игроков. Топ игроков явно испортился. Но может дело в том, что рейтинг больше растет у игроков, которые сыграли мало вопросов."
      ],
      "metadata": {
        "id": "RRgQfRAvzui4"
      }
    },
    {
      "cell_type": "code",
      "source": [
        "print(rating_tourn.min(), rating_tourn.max())\n",
        "print(rating_players.min(), rating_players.max())"
      ],
      "metadata": {
        "colab": {
          "base_uri": "https://localhost:8080/"
        },
        "id": "z78tzpivpw6v",
        "outputId": "7d09f1d5-2e25-419e-cc8d-d0752789cd66"
      },
      "execution_count": null,
      "outputs": [
        {
          "metadata": {
            "tags": null
          },
          "name": "stdout",
          "output_type": "stream",
          "text": [
            "-16.94294 0.0\n",
            "-6.7239113 4.3231363\n"
          ]
        }
      ]
    },
    {
      "cell_type": "code",
      "source": [
        "tourn_train.loc[tourn_ids[np.argpartition(rating_tourn[rating_tourn < 0], -10)[-10:]]]"
      ],
      "metadata": {
        "colab": {
          "base_uri": "https://localhost:8080/",
          "height": 768
        },
        "id": "EuFNkvya1iYm",
        "outputId": "e79c9a9f-2578-486f-de4d-48546af4703d"
      },
      "execution_count": null,
      "outputs": [
        {
          "output_type": "execute_result",
          "data": {
            "text/plain": [
              "                                                   name  \\\n",
              "id                                                        \n",
              "5847                              Байкальский фестиваль   \n",
              "5693                                   Знание – Сила VI   \n",
              "5698           (а)Синхрон-lite. Лига старта. Эпизод VII   \n",
              "5948                    Чемпионат Мира. Финал. Группа А   \n",
              "6123  Чемпионат МГУ. Открытая лига. Второй игровой день   \n",
              "5947                   Чемпионат Мира. Этап 3. Группа С   \n",
              "5564         Молодёжный чемпионат Нижегородской области   \n",
              "5457     Студенческий чемпионат Калининградской области   \n",
              "5927                                Кубок пустого стула   \n",
              "5013             (а)Синхрон-lite. Лига старта. Эпизод V   \n",
              "\n",
              "                      dateStart                    dateEnd  \\\n",
              "id                                                           \n",
              "5847  2019-08-10T07:00:00+03:00  2019-08-11T14:00:00+03:00   \n",
              "5693  2019-08-16T19:00:00+03:00  2019-08-20T19:00:00+03:00   \n",
              "5698  2019-09-01T00:05:00+03:00  2019-09-30T23:55:00+03:00   \n",
              "5948  2019-09-08T15:30:00+03:00  2019-09-08T17:30:00+03:00   \n",
              "6123  2019-12-09T19:00:00+03:00  2019-12-09T22:00:00+03:00   \n",
              "5947  2019-09-08T11:00:00+03:00  2019-09-08T13:00:00+03:00   \n",
              "5564  2019-02-01T00:00:00+03:00  2019-03-03T00:00:00+03:00   \n",
              "5457  2019-02-16T14:00:00+03:00  2019-02-16T19:00:00+03:00   \n",
              "5927  2019-11-08T19:00:00+03:00  2019-11-12T19:00:00+03:00   \n",
              "5013  2019-04-05T12:00:00+03:00  2019-05-05T23:55:00+03:00   \n",
              "\n",
              "                               type       season  \\\n",
              "id                                                 \n",
              "5847   {'id': 2, 'name': 'Обычный'}  /seasons/52   \n",
              "5693   {'id': 3, 'name': 'Синхрон'}  /seasons/52   \n",
              "5698  {'id': 8, 'name': 'Асинхрон'}  /seasons/53   \n",
              "5948   {'id': 2, 'name': 'Обычный'}  /seasons/53   \n",
              "6123   {'id': 2, 'name': 'Обычный'}  /seasons/53   \n",
              "5947   {'id': 2, 'name': 'Обычный'}  /seasons/53   \n",
              "5564   {'id': 2, 'name': 'Обычный'}  /seasons/52   \n",
              "5457   {'id': 2, 'name': 'Обычный'}  /seasons/52   \n",
              "5927   {'id': 3, 'name': 'Синхрон'}  /seasons/53   \n",
              "5013  {'id': 8, 'name': 'Асинхрон'}  /seasons/52   \n",
              "\n",
              "                                           orgcommittee  \\\n",
              "id                                                        \n",
              "5847  [{'id': 39218, 'name': 'Владислав', 'patronymi...   \n",
              "5693  [{'id': 36120, 'name': 'Серафим', 'patronymic'...   \n",
              "5698  [{'id': 23740, 'name': 'Владимир', 'patronymic...   \n",
              "5948  [{'id': 27247, 'name': 'Александр', 'patronymi...   \n",
              "6123  [{'id': 5990, 'name': 'Андрей', 'patronymic': ...   \n",
              "5947  [{'id': 27247, 'name': 'Александр', 'patronymi...   \n",
              "5564  [{'id': 32901, 'name': 'Наиль', 'patronymic': ...   \n",
              "5457  [{'id': 90340, 'name': 'Дмитрий', 'patronymic'...   \n",
              "5927  [{'id': 4414, 'name': 'Александр', 'patronymic...   \n",
              "5013  [{'id': 23740, 'name': 'Владимир', 'patronymic...   \n",
              "\n",
              "                                              synchData  \\\n",
              "id                                                        \n",
              "5847                                               None   \n",
              "5693  {'dateRequestsAllowedTo': '2019-08-20T23:59:59...   \n",
              "5698  {'dateRequestsAllowedTo': '2019-09-29T23:59:59...   \n",
              "5948                                               None   \n",
              "6123                                               None   \n",
              "5947                                               None   \n",
              "5564                                               None   \n",
              "5457                                               None   \n",
              "5927  {'dateRequestsAllowedTo': '2019-11-11T23:59:00...   \n",
              "5013  {'dateRequestsAllowedTo': '2019-05-03T23:59:59...   \n",
              "\n",
              "                                            questionQty  \n",
              "id                                                       \n",
              "5847  {'1': 15, '2': 15, '3': 15, '4': 15, '5': 15, ...  \n",
              "5693                        {'1': 12, '2': 12, '3': 12}  \n",
              "5698                        {'1': 12, '2': 12, '3': 12}  \n",
              "5948                                 {'1': 15, '2': 15}  \n",
              "6123                        {'1': 12, '2': 12, '3': 12}  \n",
              "5947                                 {'1': 15, '2': 15}  \n",
              "5564  {'1': 12, '2': 12, '3': 12, '4': 12, '5': 12, ...  \n",
              "5457                        {'1': 15, '2': 15, '3': 15}  \n",
              "5927                        {'1': 12, '2': 12, '3': 12}  \n",
              "5013                        {'1': 12, '2': 12, '3': 12}  "
            ],
            "text/html": [
              "\n",
              "  <div id=\"df-86066a96-eecc-42f0-a7ba-7710aa7cbf9a\">\n",
              "    <div class=\"colab-df-container\">\n",
              "      <div>\n",
              "<style scoped>\n",
              "    .dataframe tbody tr th:only-of-type {\n",
              "        vertical-align: middle;\n",
              "    }\n",
              "\n",
              "    .dataframe tbody tr th {\n",
              "        vertical-align: top;\n",
              "    }\n",
              "\n",
              "    .dataframe thead th {\n",
              "        text-align: right;\n",
              "    }\n",
              "</style>\n",
              "<table border=\"1\" class=\"dataframe\">\n",
              "  <thead>\n",
              "    <tr style=\"text-align: right;\">\n",
              "      <th></th>\n",
              "      <th>name</th>\n",
              "      <th>dateStart</th>\n",
              "      <th>dateEnd</th>\n",
              "      <th>type</th>\n",
              "      <th>season</th>\n",
              "      <th>orgcommittee</th>\n",
              "      <th>synchData</th>\n",
              "      <th>questionQty</th>\n",
              "    </tr>\n",
              "    <tr>\n",
              "      <th>id</th>\n",
              "      <th></th>\n",
              "      <th></th>\n",
              "      <th></th>\n",
              "      <th></th>\n",
              "      <th></th>\n",
              "      <th></th>\n",
              "      <th></th>\n",
              "      <th></th>\n",
              "    </tr>\n",
              "  </thead>\n",
              "  <tbody>\n",
              "    <tr>\n",
              "      <th>5847</th>\n",
              "      <td>Байкальский фестиваль</td>\n",
              "      <td>2019-08-10T07:00:00+03:00</td>\n",
              "      <td>2019-08-11T14:00:00+03:00</td>\n",
              "      <td>{'id': 2, 'name': 'Обычный'}</td>\n",
              "      <td>/seasons/52</td>\n",
              "      <td>[{'id': 39218, 'name': 'Владислав', 'patronymi...</td>\n",
              "      <td>None</td>\n",
              "      <td>{'1': 15, '2': 15, '3': 15, '4': 15, '5': 15, ...</td>\n",
              "    </tr>\n",
              "    <tr>\n",
              "      <th>5693</th>\n",
              "      <td>Знание – Сила VI</td>\n",
              "      <td>2019-08-16T19:00:00+03:00</td>\n",
              "      <td>2019-08-20T19:00:00+03:00</td>\n",
              "      <td>{'id': 3, 'name': 'Синхрон'}</td>\n",
              "      <td>/seasons/52</td>\n",
              "      <td>[{'id': 36120, 'name': 'Серафим', 'patronymic'...</td>\n",
              "      <td>{'dateRequestsAllowedTo': '2019-08-20T23:59:59...</td>\n",
              "      <td>{'1': 12, '2': 12, '3': 12}</td>\n",
              "    </tr>\n",
              "    <tr>\n",
              "      <th>5698</th>\n",
              "      <td>(а)Синхрон-lite. Лига старта. Эпизод VII</td>\n",
              "      <td>2019-09-01T00:05:00+03:00</td>\n",
              "      <td>2019-09-30T23:55:00+03:00</td>\n",
              "      <td>{'id': 8, 'name': 'Асинхрон'}</td>\n",
              "      <td>/seasons/53</td>\n",
              "      <td>[{'id': 23740, 'name': 'Владимир', 'patronymic...</td>\n",
              "      <td>{'dateRequestsAllowedTo': '2019-09-29T23:59:59...</td>\n",
              "      <td>{'1': 12, '2': 12, '3': 12}</td>\n",
              "    </tr>\n",
              "    <tr>\n",
              "      <th>5948</th>\n",
              "      <td>Чемпионат Мира. Финал. Группа А</td>\n",
              "      <td>2019-09-08T15:30:00+03:00</td>\n",
              "      <td>2019-09-08T17:30:00+03:00</td>\n",
              "      <td>{'id': 2, 'name': 'Обычный'}</td>\n",
              "      <td>/seasons/53</td>\n",
              "      <td>[{'id': 27247, 'name': 'Александр', 'patronymi...</td>\n",
              "      <td>None</td>\n",
              "      <td>{'1': 15, '2': 15}</td>\n",
              "    </tr>\n",
              "    <tr>\n",
              "      <th>6123</th>\n",
              "      <td>Чемпионат МГУ. Открытая лига. Второй игровой день</td>\n",
              "      <td>2019-12-09T19:00:00+03:00</td>\n",
              "      <td>2019-12-09T22:00:00+03:00</td>\n",
              "      <td>{'id': 2, 'name': 'Обычный'}</td>\n",
              "      <td>/seasons/53</td>\n",
              "      <td>[{'id': 5990, 'name': 'Андрей', 'patronymic': ...</td>\n",
              "      <td>None</td>\n",
              "      <td>{'1': 12, '2': 12, '3': 12}</td>\n",
              "    </tr>\n",
              "    <tr>\n",
              "      <th>5947</th>\n",
              "      <td>Чемпионат Мира. Этап 3. Группа С</td>\n",
              "      <td>2019-09-08T11:00:00+03:00</td>\n",
              "      <td>2019-09-08T13:00:00+03:00</td>\n",
              "      <td>{'id': 2, 'name': 'Обычный'}</td>\n",
              "      <td>/seasons/53</td>\n",
              "      <td>[{'id': 27247, 'name': 'Александр', 'patronymi...</td>\n",
              "      <td>None</td>\n",
              "      <td>{'1': 15, '2': 15}</td>\n",
              "    </tr>\n",
              "    <tr>\n",
              "      <th>5564</th>\n",
              "      <td>Молодёжный чемпионат Нижегородской области</td>\n",
              "      <td>2019-02-01T00:00:00+03:00</td>\n",
              "      <td>2019-03-03T00:00:00+03:00</td>\n",
              "      <td>{'id': 2, 'name': 'Обычный'}</td>\n",
              "      <td>/seasons/52</td>\n",
              "      <td>[{'id': 32901, 'name': 'Наиль', 'patronymic': ...</td>\n",
              "      <td>None</td>\n",
              "      <td>{'1': 12, '2': 12, '3': 12, '4': 12, '5': 12, ...</td>\n",
              "    </tr>\n",
              "    <tr>\n",
              "      <th>5457</th>\n",
              "      <td>Студенческий чемпионат Калининградской области</td>\n",
              "      <td>2019-02-16T14:00:00+03:00</td>\n",
              "      <td>2019-02-16T19:00:00+03:00</td>\n",
              "      <td>{'id': 2, 'name': 'Обычный'}</td>\n",
              "      <td>/seasons/52</td>\n",
              "      <td>[{'id': 90340, 'name': 'Дмитрий', 'patronymic'...</td>\n",
              "      <td>None</td>\n",
              "      <td>{'1': 15, '2': 15, '3': 15}</td>\n",
              "    </tr>\n",
              "    <tr>\n",
              "      <th>5927</th>\n",
              "      <td>Кубок пустого стула</td>\n",
              "      <td>2019-11-08T19:00:00+03:00</td>\n",
              "      <td>2019-11-12T19:00:00+03:00</td>\n",
              "      <td>{'id': 3, 'name': 'Синхрон'}</td>\n",
              "      <td>/seasons/53</td>\n",
              "      <td>[{'id': 4414, 'name': 'Александр', 'patronymic...</td>\n",
              "      <td>{'dateRequestsAllowedTo': '2019-11-11T23:59:00...</td>\n",
              "      <td>{'1': 12, '2': 12, '3': 12}</td>\n",
              "    </tr>\n",
              "    <tr>\n",
              "      <th>5013</th>\n",
              "      <td>(а)Синхрон-lite. Лига старта. Эпизод V</td>\n",
              "      <td>2019-04-05T12:00:00+03:00</td>\n",
              "      <td>2019-05-05T23:55:00+03:00</td>\n",
              "      <td>{'id': 8, 'name': 'Асинхрон'}</td>\n",
              "      <td>/seasons/52</td>\n",
              "      <td>[{'id': 23740, 'name': 'Владимир', 'patronymic...</td>\n",
              "      <td>{'dateRequestsAllowedTo': '2019-05-03T23:59:59...</td>\n",
              "      <td>{'1': 12, '2': 12, '3': 12}</td>\n",
              "    </tr>\n",
              "  </tbody>\n",
              "</table>\n",
              "</div>\n",
              "      <button class=\"colab-df-convert\" onclick=\"convertToInteractive('df-86066a96-eecc-42f0-a7ba-7710aa7cbf9a')\"\n",
              "              title=\"Convert this dataframe to an interactive table.\"\n",
              "              style=\"display:none;\">\n",
              "        \n",
              "  <svg xmlns=\"http://www.w3.org/2000/svg\" height=\"24px\"viewBox=\"0 0 24 24\"\n",
              "       width=\"24px\">\n",
              "    <path d=\"M0 0h24v24H0V0z\" fill=\"none\"/>\n",
              "    <path d=\"M18.56 5.44l.94 2.06.94-2.06 2.06-.94-2.06-.94-.94-2.06-.94 2.06-2.06.94zm-11 1L8.5 8.5l.94-2.06 2.06-.94-2.06-.94L8.5 2.5l-.94 2.06-2.06.94zm10 10l.94 2.06.94-2.06 2.06-.94-2.06-.94-.94-2.06-.94 2.06-2.06.94z\"/><path d=\"M17.41 7.96l-1.37-1.37c-.4-.4-.92-.59-1.43-.59-.52 0-1.04.2-1.43.59L10.3 9.45l-7.72 7.72c-.78.78-.78 2.05 0 2.83L4 21.41c.39.39.9.59 1.41.59.51 0 1.02-.2 1.41-.59l7.78-7.78 2.81-2.81c.8-.78.8-2.07 0-2.86zM5.41 20L4 18.59l7.72-7.72 1.47 1.35L5.41 20z\"/>\n",
              "  </svg>\n",
              "      </button>\n",
              "      \n",
              "  <style>\n",
              "    .colab-df-container {\n",
              "      display:flex;\n",
              "      flex-wrap:wrap;\n",
              "      gap: 12px;\n",
              "    }\n",
              "\n",
              "    .colab-df-convert {\n",
              "      background-color: #E8F0FE;\n",
              "      border: none;\n",
              "      border-radius: 50%;\n",
              "      cursor: pointer;\n",
              "      display: none;\n",
              "      fill: #1967D2;\n",
              "      height: 32px;\n",
              "      padding: 0 0 0 0;\n",
              "      width: 32px;\n",
              "    }\n",
              "\n",
              "    .colab-df-convert:hover {\n",
              "      background-color: #E2EBFA;\n",
              "      box-shadow: 0px 1px 2px rgba(60, 64, 67, 0.3), 0px 1px 3px 1px rgba(60, 64, 67, 0.15);\n",
              "      fill: #174EA6;\n",
              "    }\n",
              "\n",
              "    [theme=dark] .colab-df-convert {\n",
              "      background-color: #3B4455;\n",
              "      fill: #D2E3FC;\n",
              "    }\n",
              "\n",
              "    [theme=dark] .colab-df-convert:hover {\n",
              "      background-color: #434B5C;\n",
              "      box-shadow: 0px 1px 3px 1px rgba(0, 0, 0, 0.15);\n",
              "      filter: drop-shadow(0px 1px 2px rgba(0, 0, 0, 0.3));\n",
              "      fill: #FFFFFF;\n",
              "    }\n",
              "  </style>\n",
              "\n",
              "      <script>\n",
              "        const buttonEl =\n",
              "          document.querySelector('#df-86066a96-eecc-42f0-a7ba-7710aa7cbf9a button.colab-df-convert');\n",
              "        buttonEl.style.display =\n",
              "          google.colab.kernel.accessAllowed ? 'block' : 'none';\n",
              "\n",
              "        async function convertToInteractive(key) {\n",
              "          const element = document.querySelector('#df-86066a96-eecc-42f0-a7ba-7710aa7cbf9a');\n",
              "          const dataTable =\n",
              "            await google.colab.kernel.invokeFunction('convertToInteractive',\n",
              "                                                     [key], {});\n",
              "          if (!dataTable) return;\n",
              "\n",
              "          const docLinkHtml = 'Like what you see? Visit the ' +\n",
              "            '<a target=\"_blank\" href=https://colab.research.google.com/notebooks/data_table.ipynb>data table notebook</a>'\n",
              "            + ' to learn more about interactive tables.';\n",
              "          element.innerHTML = '';\n",
              "          dataTable['output_type'] = 'display_data';\n",
              "          await google.colab.output.renderOutput(dataTable, element);\n",
              "          const docLink = document.createElement('div');\n",
              "          docLink.innerHTML = docLinkHtml;\n",
              "          element.appendChild(docLink);\n",
              "        }\n",
              "      </script>\n",
              "    </div>\n",
              "  </div>\n",
              "  "
            ]
          },
          "metadata": {},
          "execution_count": 29
        }
      ]
    },
    {
      "cell_type": "code",
      "source": [
        "players.loc[player_ids[np.argpartition(rating_players, -10)[-10:]]]"
      ],
      "metadata": {
        "colab": {
          "base_uri": "https://localhost:8080/",
          "height": 394
        },
        "id": "E38nOKax1mAD",
        "outputId": "aeb777a2-5a8e-48c6-e9cc-512a23853767"
      },
      "execution_count": null,
      "outputs": [
        {
          "output_type": "execute_result",
          "data": {
            "text/plain": [
              "              name     patronymic    surname\n",
              "id                                          \n",
              "188876       Мария        Юрьевна   Голудина\n",
              "40411      Дмитрий      Сергеевич    Кудинов\n",
              "28751         Иван     Николаевич    Семушин\n",
              "4270    Александра   Владимировна     Брутер\n",
              "27403       Максим     Михайлович      Руссо\n",
              "190096     Дмитрий     Михайлович  Мартьянов\n",
              "38175       Максим       Игоревич  Пилипенко\n",
              "17750       Галина   Вячеславовна   Лазарева\n",
              "139576      Сергей  Александрович      Майер\n",
              "22474         Илья      Сергеевич      Немец"
            ],
            "text/html": [
              "\n",
              "  <div id=\"df-27aeb8f3-d225-4b4c-ade0-ff034bf70b14\">\n",
              "    <div class=\"colab-df-container\">\n",
              "      <div>\n",
              "<style scoped>\n",
              "    .dataframe tbody tr th:only-of-type {\n",
              "        vertical-align: middle;\n",
              "    }\n",
              "\n",
              "    .dataframe tbody tr th {\n",
              "        vertical-align: top;\n",
              "    }\n",
              "\n",
              "    .dataframe thead th {\n",
              "        text-align: right;\n",
              "    }\n",
              "</style>\n",
              "<table border=\"1\" class=\"dataframe\">\n",
              "  <thead>\n",
              "    <tr style=\"text-align: right;\">\n",
              "      <th></th>\n",
              "      <th>name</th>\n",
              "      <th>patronymic</th>\n",
              "      <th>surname</th>\n",
              "    </tr>\n",
              "    <tr>\n",
              "      <th>id</th>\n",
              "      <th></th>\n",
              "      <th></th>\n",
              "      <th></th>\n",
              "    </tr>\n",
              "  </thead>\n",
              "  <tbody>\n",
              "    <tr>\n",
              "      <th>188876</th>\n",
              "      <td>Мария</td>\n",
              "      <td>Юрьевна</td>\n",
              "      <td>Голудина</td>\n",
              "    </tr>\n",
              "    <tr>\n",
              "      <th>40411</th>\n",
              "      <td>Дмитрий</td>\n",
              "      <td>Сергеевич</td>\n",
              "      <td>Кудинов</td>\n",
              "    </tr>\n",
              "    <tr>\n",
              "      <th>28751</th>\n",
              "      <td>Иван</td>\n",
              "      <td>Николаевич</td>\n",
              "      <td>Семушин</td>\n",
              "    </tr>\n",
              "    <tr>\n",
              "      <th>4270</th>\n",
              "      <td>Александра</td>\n",
              "      <td>Владимировна</td>\n",
              "      <td>Брутер</td>\n",
              "    </tr>\n",
              "    <tr>\n",
              "      <th>27403</th>\n",
              "      <td>Максим</td>\n",
              "      <td>Михайлович</td>\n",
              "      <td>Руссо</td>\n",
              "    </tr>\n",
              "    <tr>\n",
              "      <th>190096</th>\n",
              "      <td>Дмитрий</td>\n",
              "      <td>Михайлович</td>\n",
              "      <td>Мартьянов</td>\n",
              "    </tr>\n",
              "    <tr>\n",
              "      <th>38175</th>\n",
              "      <td>Максим</td>\n",
              "      <td>Игоревич</td>\n",
              "      <td>Пилипенко</td>\n",
              "    </tr>\n",
              "    <tr>\n",
              "      <th>17750</th>\n",
              "      <td>Галина</td>\n",
              "      <td>Вячеславовна</td>\n",
              "      <td>Лазарева</td>\n",
              "    </tr>\n",
              "    <tr>\n",
              "      <th>139576</th>\n",
              "      <td>Сергей</td>\n",
              "      <td>Александрович</td>\n",
              "      <td>Майер</td>\n",
              "    </tr>\n",
              "    <tr>\n",
              "      <th>22474</th>\n",
              "      <td>Илья</td>\n",
              "      <td>Сергеевич</td>\n",
              "      <td>Немец</td>\n",
              "    </tr>\n",
              "  </tbody>\n",
              "</table>\n",
              "</div>\n",
              "      <button class=\"colab-df-convert\" onclick=\"convertToInteractive('df-27aeb8f3-d225-4b4c-ade0-ff034bf70b14')\"\n",
              "              title=\"Convert this dataframe to an interactive table.\"\n",
              "              style=\"display:none;\">\n",
              "        \n",
              "  <svg xmlns=\"http://www.w3.org/2000/svg\" height=\"24px\"viewBox=\"0 0 24 24\"\n",
              "       width=\"24px\">\n",
              "    <path d=\"M0 0h24v24H0V0z\" fill=\"none\"/>\n",
              "    <path d=\"M18.56 5.44l.94 2.06.94-2.06 2.06-.94-2.06-.94-.94-2.06-.94 2.06-2.06.94zm-11 1L8.5 8.5l.94-2.06 2.06-.94-2.06-.94L8.5 2.5l-.94 2.06-2.06.94zm10 10l.94 2.06.94-2.06 2.06-.94-2.06-.94-.94-2.06-.94 2.06-2.06.94z\"/><path d=\"M17.41 7.96l-1.37-1.37c-.4-.4-.92-.59-1.43-.59-.52 0-1.04.2-1.43.59L10.3 9.45l-7.72 7.72c-.78.78-.78 2.05 0 2.83L4 21.41c.39.39.9.59 1.41.59.51 0 1.02-.2 1.41-.59l7.78-7.78 2.81-2.81c.8-.78.8-2.07 0-2.86zM5.41 20L4 18.59l7.72-7.72 1.47 1.35L5.41 20z\"/>\n",
              "  </svg>\n",
              "      </button>\n",
              "      \n",
              "  <style>\n",
              "    .colab-df-container {\n",
              "      display:flex;\n",
              "      flex-wrap:wrap;\n",
              "      gap: 12px;\n",
              "    }\n",
              "\n",
              "    .colab-df-convert {\n",
              "      background-color: #E8F0FE;\n",
              "      border: none;\n",
              "      border-radius: 50%;\n",
              "      cursor: pointer;\n",
              "      display: none;\n",
              "      fill: #1967D2;\n",
              "      height: 32px;\n",
              "      padding: 0 0 0 0;\n",
              "      width: 32px;\n",
              "    }\n",
              "\n",
              "    .colab-df-convert:hover {\n",
              "      background-color: #E2EBFA;\n",
              "      box-shadow: 0px 1px 2px rgba(60, 64, 67, 0.3), 0px 1px 3px 1px rgba(60, 64, 67, 0.15);\n",
              "      fill: #174EA6;\n",
              "    }\n",
              "\n",
              "    [theme=dark] .colab-df-convert {\n",
              "      background-color: #3B4455;\n",
              "      fill: #D2E3FC;\n",
              "    }\n",
              "\n",
              "    [theme=dark] .colab-df-convert:hover {\n",
              "      background-color: #434B5C;\n",
              "      box-shadow: 0px 1px 3px 1px rgba(0, 0, 0, 0.15);\n",
              "      filter: drop-shadow(0px 1px 2px rgba(0, 0, 0, 0.3));\n",
              "      fill: #FFFFFF;\n",
              "    }\n",
              "  </style>\n",
              "\n",
              "      <script>\n",
              "        const buttonEl =\n",
              "          document.querySelector('#df-27aeb8f3-d225-4b4c-ade0-ff034bf70b14 button.colab-df-convert');\n",
              "        buttonEl.style.display =\n",
              "          google.colab.kernel.accessAllowed ? 'block' : 'none';\n",
              "\n",
              "        async function convertToInteractive(key) {\n",
              "          const element = document.querySelector('#df-27aeb8f3-d225-4b4c-ade0-ff034bf70b14');\n",
              "          const dataTable =\n",
              "            await google.colab.kernel.invokeFunction('convertToInteractive',\n",
              "                                                     [key], {});\n",
              "          if (!dataTable) return;\n",
              "\n",
              "          const docLinkHtml = 'Like what you see? Visit the ' +\n",
              "            '<a target=\"_blank\" href=https://colab.research.google.com/notebooks/data_table.ipynb>data table notebook</a>'\n",
              "            + ' to learn more about interactive tables.';\n",
              "          element.innerHTML = '';\n",
              "          dataTable['output_type'] = 'display_data';\n",
              "          await google.colab.output.renderOutput(dataTable, element);\n",
              "          const docLink = document.createElement('div');\n",
              "          docLink.innerHTML = docLinkHtml;\n",
              "          element.appendChild(docLink);\n",
              "        }\n",
              "      </script>\n",
              "    </div>\n",
              "  </div>\n",
              "  "
            ]
          },
          "metadata": {},
          "execution_count": 30
        }
      ]
    },
    {
      "cell_type": "markdown",
      "source": [
        "Вообще, можно попробовать корреляцию мерить по командной игре. В результатах все равно только она видна. Тогда надо считать при ответе на вопрос вероятность, что команда не ответит = ни один из игроков команды не ответит."
      ],
      "metadata": {
        "id": "7DuGlgUJYX5-"
      }
    },
    {
      "cell_type": "code",
      "source": [
        "\n",
        "from scipy.stats import rankdata\n",
        "from scipy.special import expit\n",
        "\n",
        "def evaluate2(rating_players): \n",
        "    \n",
        "    res = []\n",
        "    for _, tourn_id in enumerate(test.tourn_id.unique()):\n",
        "        df = pd.DataFrame()\n",
        "        \n",
        "        tourn = test[test.tourn_id == tourn_id].copy()\n",
        "        \n",
        "        tourn['performance_predicted'] = 0\n",
        "        tourn['performance_actual'] = 0\n",
        "        ################################################\n",
        "        try:\n",
        "            ans_arr, _ = get_complexity_data(tourn)\n",
        "        except TypeError:\n",
        "            continue\n",
        "        assert len(tourn) == ans_arr.shape[0]\n",
        "        \n",
        "\n",
        "        tourn['value'] = tourn.player_id.map(lambda x: rating_players[player_id2idx[int(x)]] if x.is_integer() and int(x) in player_id2idx else np.nan)\n",
        "        tourn['value'] = 1 - expit(tourn.value)\n",
        "        tourn.dropna(axis=0, how='any')\n",
        "        tourn['performance_actual'] = tourn['mask'].str.count('1')\n",
        "        performance = tourn[['value', 'team.id']].groupby('team.id').agg(np.prod).reset_index()\n",
        "\n",
        "        performance = performance.merge(tourn[['team.id', 'performance_actual']], how='inner', on='team.id').drop_duplicates(['team.id', 'value', 'performance_actual'])\n",
        "        performance['performance_pred'] = 1 - performance.value\n",
        "\n",
        "        res.append([\n",
        "            stats.spearmanr(performance['performance_actual'], performance['performance_pred']).statistic, \n",
        "            stats.kendalltau(performance['performance_actual'], performance['performance_pred']).statistic\n",
        "        ])\n",
        "    res = np.asarray(res)\n",
        "    return np.nanmean(res, axis=0) # array([0.72223742, 0.55741029])\n",
        "\n",
        "evaluate2(rating_players)"
      ],
      "metadata": {
        "colab": {
          "base_uri": "https://localhost:8080/"
        },
        "id": "rrFLuKQ3Y32u",
        "outputId": "56dbcf2b-a8f4-4053-dc2a-c0ca8f5eb78f"
      },
      "execution_count": null,
      "outputs": [
        {
          "output_type": "execute_result",
          "data": {
            "text/plain": [
              "array([0.7742058 , 0.61620167])"
            ]
          },
          "metadata": {},
          "execution_count": 51
        }
      ]
    },
    {
      "cell_type": "code",
      "source": [
        "rating_players0 = lr.coef_[0, len(tourn_ids):].T\n",
        "print(evaluate2(rating_players0.astype('float32')))\n",
        "print(evaluate2(rating_players))"
      ],
      "metadata": {
        "id": "d8CKi3j5ZZ_S",
        "colab": {
          "base_uri": "https://localhost:8080/"
        },
        "outputId": "c5e67596-fbb1-46a8-eaf2-320e3455e2f4"
      },
      "execution_count": null,
      "outputs": [
        {
          "output_type": "stream",
          "name": "stdout",
          "text": [
            "[0.77306879 0.6153344 ]\n",
            "[0.7742058  0.61620167]\n"
          ]
        }
      ]
    },
    {
      "cell_type": "markdown",
      "source": [
        "При попытке оценить командную игру корреляции растут. Что и требовалось.. насчитать. \n",
        "\n"
      ],
      "metadata": {
        "id": "NR1IOLT1P2Am"
      }
    }
  ]
}