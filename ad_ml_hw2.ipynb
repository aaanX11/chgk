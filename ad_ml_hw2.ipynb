{
  "nbformat": 4,
  "nbformat_minor": 0,
  "metadata": {
    "colab": {
      "provenance": []
    },
    "kernelspec": {
      "name": "python3",
      "display_name": "Python 3"
    },
    "language_info": {
      "name": "python"
    }
  },
  "cells": [
    {
      "cell_type": "code",
      "execution_count": 2,
      "metadata": {
        "id": "3ozvVQYih0Dx"
      },
      "outputs": [],
      "source": [
        "import numpy as np \n",
        "import pandas as pd\n",
        "import matplotlib.pyplot as plt\n",
        "\n",
        "import zipfile\n",
        "import os\n",
        "import glob\n",
        "\n",
        "import json\n",
        "import pickle\n",
        "from datetime import datetime, date\n",
        "from scipy import interpolate"
      ]
    },
    {
      "cell_type": "code",
      "source": [
        "os.listdir(r'/content/drive/MyDrive/ad_ml')"
      ],
      "metadata": {
        "colab": {
          "base_uri": "https://localhost:8080/"
        },
        "id": "Sme9f8yLbF78",
        "outputId": "99af089f-9017-4b9d-b9a3-a67042fb7eac"
      },
      "execution_count": 3,
      "outputs": [
        {
          "output_type": "execute_result",
          "data": {
            "text/plain": [
              "['players.pkl',\n",
              " 'results.pkl',\n",
              " 'tournaments.pkl',\n",
              " 'train.pkl',\n",
              " 'test.pkl',\n",
              " 'tournament-tours-5462-17-Apr-2023.xlsx - Worksheet.csv',\n",
              " 'tournament-tours-5553-17-Apr-2023.xlsx - Worksheet.csv',\n",
              " 'tournament-tours-5554-17-Apr-2023.xlsx - Worksheet.csv',\n",
              " 'tournament-tours-5703-17-Apr-2023.xlsx - Worksheet.csv',\n",
              " 'tournament-tours-6254-17-Apr-2023.xlsx - Worksheet.csv',\n",
              " 'tournament-tours-6249-17-Apr-2023.xlsx - Worksheet.csv',\n",
              " 'tournament-tours-6090-17-Apr-2023.xlsx - Worksheet.csv',\n",
              " 'tournament-tours-6085-17-Apr-2023.xlsx - Worksheet.csv',\n",
              " 'tournament-tours-6026-17-Apr-2023.xlsx - Worksheet.csv',\n",
              " 'tournament-tours-5864-17-Apr-2023.xlsx - Worksheet.csv',\n",
              " 'tournament-tours-5760-17-Apr-2023.xlsx - Worksheet.csv',\n",
              " 'tournament-tours-6255-17-Apr-2023.xlsx - Worksheet.csv']"
            ]
          },
          "metadata": {},
          "execution_count": 3
        }
      ]
    },
    {
      "cell_type": "code",
      "source": [
        "dir_path = r'/content/drive/MyDrive/ad_ml'\n",
        "# path = r'/content/drive/MyDrive/chgk.zip'\n",
        "\n",
        "# try:\n",
        "#     os.mkdir(dir_path)\n",
        "# except FileExistsError:\n",
        "#     pass\n",
        "# with zipfile.ZipFile(path, 'r') as zip_ref:\n",
        "#     zip_ref.extractall(dir_path)"
      ],
      "metadata": {
        "id": "RKQdEXoomWes"
      },
      "execution_count": 4,
      "outputs": []
    },
    {
      "cell_type": "code",
      "source": [
        "restart = False\n",
        "\n",
        "with open(os.path.join(dir_path, 'tournaments.pkl'), 'rb') as file:\n",
        "    tournaments = pickle.load(file)\n",
        "tournaments = pd.DataFrame(tournaments).T.set_index('id')\n",
        "\n",
        "if restart:\n",
        "    with open(os.path.join(dir_path, 'results.pkl'), 'rb') as file:\n",
        "        results = pickle.load(file)\n",
        "\n",
        "with open(os.path.join(dir_path, 'players.pkl'), 'rb') as file:\n",
        "    players = pickle.load(file)\n",
        "players = pd.DataFrame(players).T.set_index('id')"
      ],
      "metadata": {
        "id": "AxgbQOMonN8P"
      },
      "execution_count": 5,
      "outputs": []
    },
    {
      "cell_type": "code",
      "source": [
        "\n",
        "tourn_train = tournaments[tournaments.dateStart.map(lambda d: datetime.fromisoformat(d).year == 2019)]\n",
        "tourn_test = tournaments[tournaments.dateStart.map(lambda d: datetime.fromisoformat(d).year == 2020)]"
      ],
      "metadata": {
        "id": "fflOScn-N0KL"
      },
      "execution_count": 6,
      "outputs": []
    },
    {
      "cell_type": "code",
      "source": [
        "players[players.surname.str.contains('Вассерман')]"
      ],
      "metadata": {
        "colab": {
          "base_uri": "https://localhost:8080/",
          "height": 300
        },
        "id": "qJj2U6PE6iDK",
        "outputId": "f09df58b-af86-49a5-c0de-9d6eb62102a4"
      },
      "execution_count": 7,
      "outputs": [
        {
          "output_type": "execute_result",
          "data": {
            "text/plain": [
              "             name     patronymic    surname\n",
              "id                                         \n",
              "5195     Анатолий  Александрович  Вассерман\n",
              "5196      Евгений                 Вассерман\n",
              "5197         Макс                 Вассерман\n",
              "5198       Михаил                 Вассерман\n",
              "5199         Юлий   Владимирович  Вассерман\n",
              "40895   Александр                 Вассерман\n",
              "202294       Илья      Семёнович  Вассерман"
            ],
            "text/html": [
              "\n",
              "  <div id=\"df-d9ccb591-1935-47d0-807b-61200f526e79\">\n",
              "    <div class=\"colab-df-container\">\n",
              "      <div>\n",
              "<style scoped>\n",
              "    .dataframe tbody tr th:only-of-type {\n",
              "        vertical-align: middle;\n",
              "    }\n",
              "\n",
              "    .dataframe tbody tr th {\n",
              "        vertical-align: top;\n",
              "    }\n",
              "\n",
              "    .dataframe thead th {\n",
              "        text-align: right;\n",
              "    }\n",
              "</style>\n",
              "<table border=\"1\" class=\"dataframe\">\n",
              "  <thead>\n",
              "    <tr style=\"text-align: right;\">\n",
              "      <th></th>\n",
              "      <th>name</th>\n",
              "      <th>patronymic</th>\n",
              "      <th>surname</th>\n",
              "    </tr>\n",
              "    <tr>\n",
              "      <th>id</th>\n",
              "      <th></th>\n",
              "      <th></th>\n",
              "      <th></th>\n",
              "    </tr>\n",
              "  </thead>\n",
              "  <tbody>\n",
              "    <tr>\n",
              "      <th>5195</th>\n",
              "      <td>Анатолий</td>\n",
              "      <td>Александрович</td>\n",
              "      <td>Вассерман</td>\n",
              "    </tr>\n",
              "    <tr>\n",
              "      <th>5196</th>\n",
              "      <td>Евгений</td>\n",
              "      <td></td>\n",
              "      <td>Вассерман</td>\n",
              "    </tr>\n",
              "    <tr>\n",
              "      <th>5197</th>\n",
              "      <td>Макс</td>\n",
              "      <td></td>\n",
              "      <td>Вассерман</td>\n",
              "    </tr>\n",
              "    <tr>\n",
              "      <th>5198</th>\n",
              "      <td>Михаил</td>\n",
              "      <td></td>\n",
              "      <td>Вассерман</td>\n",
              "    </tr>\n",
              "    <tr>\n",
              "      <th>5199</th>\n",
              "      <td>Юлий</td>\n",
              "      <td>Владимирович</td>\n",
              "      <td>Вассерман</td>\n",
              "    </tr>\n",
              "    <tr>\n",
              "      <th>40895</th>\n",
              "      <td>Александр</td>\n",
              "      <td></td>\n",
              "      <td>Вассерман</td>\n",
              "    </tr>\n",
              "    <tr>\n",
              "      <th>202294</th>\n",
              "      <td>Илья</td>\n",
              "      <td>Семёнович</td>\n",
              "      <td>Вассерман</td>\n",
              "    </tr>\n",
              "  </tbody>\n",
              "</table>\n",
              "</div>\n",
              "      <button class=\"colab-df-convert\" onclick=\"convertToInteractive('df-d9ccb591-1935-47d0-807b-61200f526e79')\"\n",
              "              title=\"Convert this dataframe to an interactive table.\"\n",
              "              style=\"display:none;\">\n",
              "        \n",
              "  <svg xmlns=\"http://www.w3.org/2000/svg\" height=\"24px\"viewBox=\"0 0 24 24\"\n",
              "       width=\"24px\">\n",
              "    <path d=\"M0 0h24v24H0V0z\" fill=\"none\"/>\n",
              "    <path d=\"M18.56 5.44l.94 2.06.94-2.06 2.06-.94-2.06-.94-.94-2.06-.94 2.06-2.06.94zm-11 1L8.5 8.5l.94-2.06 2.06-.94-2.06-.94L8.5 2.5l-.94 2.06-2.06.94zm10 10l.94 2.06.94-2.06 2.06-.94-2.06-.94-.94-2.06-.94 2.06-2.06.94z\"/><path d=\"M17.41 7.96l-1.37-1.37c-.4-.4-.92-.59-1.43-.59-.52 0-1.04.2-1.43.59L10.3 9.45l-7.72 7.72c-.78.78-.78 2.05 0 2.83L4 21.41c.39.39.9.59 1.41.59.51 0 1.02-.2 1.41-.59l7.78-7.78 2.81-2.81c.8-.78.8-2.07 0-2.86zM5.41 20L4 18.59l7.72-7.72 1.47 1.35L5.41 20z\"/>\n",
              "  </svg>\n",
              "      </button>\n",
              "      \n",
              "  <style>\n",
              "    .colab-df-container {\n",
              "      display:flex;\n",
              "      flex-wrap:wrap;\n",
              "      gap: 12px;\n",
              "    }\n",
              "\n",
              "    .colab-df-convert {\n",
              "      background-color: #E8F0FE;\n",
              "      border: none;\n",
              "      border-radius: 50%;\n",
              "      cursor: pointer;\n",
              "      display: none;\n",
              "      fill: #1967D2;\n",
              "      height: 32px;\n",
              "      padding: 0 0 0 0;\n",
              "      width: 32px;\n",
              "    }\n",
              "\n",
              "    .colab-df-convert:hover {\n",
              "      background-color: #E2EBFA;\n",
              "      box-shadow: 0px 1px 2px rgba(60, 64, 67, 0.3), 0px 1px 3px 1px rgba(60, 64, 67, 0.15);\n",
              "      fill: #174EA6;\n",
              "    }\n",
              "\n",
              "    [theme=dark] .colab-df-convert {\n",
              "      background-color: #3B4455;\n",
              "      fill: #D2E3FC;\n",
              "    }\n",
              "\n",
              "    [theme=dark] .colab-df-convert:hover {\n",
              "      background-color: #434B5C;\n",
              "      box-shadow: 0px 1px 3px 1px rgba(0, 0, 0, 0.15);\n",
              "      filter: drop-shadow(0px 1px 2px rgba(0, 0, 0, 0.3));\n",
              "      fill: #FFFFFF;\n",
              "    }\n",
              "  </style>\n",
              "\n",
              "      <script>\n",
              "        const buttonEl =\n",
              "          document.querySelector('#df-d9ccb591-1935-47d0-807b-61200f526e79 button.colab-df-convert');\n",
              "        buttonEl.style.display =\n",
              "          google.colab.kernel.accessAllowed ? 'block' : 'none';\n",
              "\n",
              "        async function convertToInteractive(key) {\n",
              "          const element = document.querySelector('#df-d9ccb591-1935-47d0-807b-61200f526e79');\n",
              "          const dataTable =\n",
              "            await google.colab.kernel.invokeFunction('convertToInteractive',\n",
              "                                                     [key], {});\n",
              "          if (!dataTable) return;\n",
              "\n",
              "          const docLinkHtml = 'Like what you see? Visit the ' +\n",
              "            '<a target=\"_blank\" href=https://colab.research.google.com/notebooks/data_table.ipynb>data table notebook</a>'\n",
              "            + ' to learn more about interactive tables.';\n",
              "          element.innerHTML = '';\n",
              "          dataTable['output_type'] = 'display_data';\n",
              "          await google.colab.output.renderOutput(dataTable, element);\n",
              "          const docLink = document.createElement('div');\n",
              "          docLink.innerHTML = docLinkHtml;\n",
              "          element.appendChild(docLink);\n",
              "        }\n",
              "      </script>\n",
              "    </div>\n",
              "  </div>\n",
              "  "
            ]
          },
          "metadata": {},
          "execution_count": 7
        }
      ]
    },
    {
      "cell_type": "code",
      "source": [
        "train = pd.DataFrame()\n",
        "def construct(results):\n",
        "    data = pd.DataFrame()\n",
        "    for k, v in results.items():\n",
        "        \n",
        "        for team in v:\n",
        "\n",
        "            w = pd.json_normalize(team)\n",
        "            try:\n",
        "                w = w.explode('teamMembers')[['mask', 'teamMembers', 'team.id']].copy()\n",
        "            except KeyError:\n",
        "                continue\n",
        "            w['player_id'] = w.teamMembers.map(\n",
        "                lambda p: float('nan') \n",
        "                if isinstance(p, float) \n",
        "                else p['player']['id']\n",
        "            )\n",
        "            w = w[['mask', 'player_id', 'team.id']]\n",
        "            w['tourn_id'] = k\n",
        "\n",
        "            data = pd.concat((data, w), axis=0)\n",
        "    return data\n",
        "\n"
      ],
      "metadata": {
        "id": "9fxSZqeNSLO1"
      },
      "execution_count": 8,
      "outputs": []
    },
    {
      "cell_type": "code",
      "source": [
        "\n",
        "if restart:\n",
        "    results_train = {k: v for k, v in results.items() if k in tourn_train.index.tolist()}\n",
        "    results_test = {k: v for k, v in results.items() if k in tourn_test.index.tolist()}\n",
        "\n",
        "    train = construct(results_train)\n",
        "    test = construct(results_test)\n",
        "\n",
        "    with open(os.path.join(dir_path, 'train.pkl'), 'wb') as file:\n",
        "        pickle.dump(train, file)\n",
        "    with open(os.path.join(dir_path, 'test.pkl'), 'wb') as file:\n",
        "        pickle.dump(test, file)\n",
        "else:\n",
        "    with open(os.path.join(dir_path, 'train.pkl'), 'rb') as file:\n",
        "        train = pickle.load(file)\n",
        "    with open(os.path.join(dir_path, 'test.pkl'), 'rb') as file:\n",
        "        test = pickle.load(file)"
      ],
      "metadata": {
        "id": "m1lEXtg4Tz6r"
      },
      "execution_count": 9,
      "outputs": []
    },
    {
      "cell_type": "code",
      "source": [
        "print(train.player_id.unique().shape)\n",
        "print(test.player_id.unique().shape)"
      ],
      "metadata": {
        "colab": {
          "base_uri": "https://localhost:8080/"
        },
        "id": "3zXIqKiH0WTw",
        "outputId": "e6d3b0ab-e9f3-450d-bd84-a59cf4588020"
      },
      "execution_count": 10,
      "outputs": [
        {
          "output_type": "stream",
          "name": "stdout",
          "text": [
            "(59217,)\n",
            "(29243,)\n"
          ]
        }
      ]
    },
    {
      "cell_type": "code",
      "source": [
        "train = train[train['mask'].notna()]\n",
        "train['mask'] = train['mask'].str.replace('X', '')\n",
        "train.head()"
      ],
      "metadata": {
        "colab": {
          "base_uri": "https://localhost:8080/",
          "height": 330
        },
        "id": "lwpE73kE1lyc",
        "outputId": "912683d1-07ba-4da7-defd-0b75a4866eb7"
      },
      "execution_count": 11,
      "outputs": [
        {
          "output_type": "stream",
          "name": "stderr",
          "text": [
            "<ipython-input-11-a355b5b5423c>:2: SettingWithCopyWarning: \n",
            "A value is trying to be set on a copy of a slice from a DataFrame.\n",
            "Try using .loc[row_indexer,col_indexer] = value instead\n",
            "\n",
            "See the caveats in the documentation: https://pandas.pydata.org/pandas-docs/stable/user_guide/indexing.html#returning-a-view-versus-a-copy\n",
            "  train['mask'] = train['mask'].str.replace('X', '')\n"
          ]
        },
        {
          "output_type": "execute_result",
          "data": {
            "text/plain": [
              "                                   mask  player_id  team.id  tourn_id\n",
              "0  111111111011111110111111111100010010     6212.0    45556      4772\n",
              "0  111111111011111110111111111100010010    18332.0    45556      4772\n",
              "0  111111111011111110111111111100010010    18036.0    45556      4772\n",
              "0  111111111011111110111111111100010010    22799.0    45556      4772\n",
              "0  111111111011111110111111111100010010    15456.0    45556      4772"
            ],
            "text/html": [
              "\n",
              "  <div id=\"df-6ebfcadc-d232-463e-9692-bb218f2306e3\">\n",
              "    <div class=\"colab-df-container\">\n",
              "      <div>\n",
              "<style scoped>\n",
              "    .dataframe tbody tr th:only-of-type {\n",
              "        vertical-align: middle;\n",
              "    }\n",
              "\n",
              "    .dataframe tbody tr th {\n",
              "        vertical-align: top;\n",
              "    }\n",
              "\n",
              "    .dataframe thead th {\n",
              "        text-align: right;\n",
              "    }\n",
              "</style>\n",
              "<table border=\"1\" class=\"dataframe\">\n",
              "  <thead>\n",
              "    <tr style=\"text-align: right;\">\n",
              "      <th></th>\n",
              "      <th>mask</th>\n",
              "      <th>player_id</th>\n",
              "      <th>team.id</th>\n",
              "      <th>tourn_id</th>\n",
              "    </tr>\n",
              "  </thead>\n",
              "  <tbody>\n",
              "    <tr>\n",
              "      <th>0</th>\n",
              "      <td>111111111011111110111111111100010010</td>\n",
              "      <td>6212.0</td>\n",
              "      <td>45556</td>\n",
              "      <td>4772</td>\n",
              "    </tr>\n",
              "    <tr>\n",
              "      <th>0</th>\n",
              "      <td>111111111011111110111111111100010010</td>\n",
              "      <td>18332.0</td>\n",
              "      <td>45556</td>\n",
              "      <td>4772</td>\n",
              "    </tr>\n",
              "    <tr>\n",
              "      <th>0</th>\n",
              "      <td>111111111011111110111111111100010010</td>\n",
              "      <td>18036.0</td>\n",
              "      <td>45556</td>\n",
              "      <td>4772</td>\n",
              "    </tr>\n",
              "    <tr>\n",
              "      <th>0</th>\n",
              "      <td>111111111011111110111111111100010010</td>\n",
              "      <td>22799.0</td>\n",
              "      <td>45556</td>\n",
              "      <td>4772</td>\n",
              "    </tr>\n",
              "    <tr>\n",
              "      <th>0</th>\n",
              "      <td>111111111011111110111111111100010010</td>\n",
              "      <td>15456.0</td>\n",
              "      <td>45556</td>\n",
              "      <td>4772</td>\n",
              "    </tr>\n",
              "  </tbody>\n",
              "</table>\n",
              "</div>\n",
              "      <button class=\"colab-df-convert\" onclick=\"convertToInteractive('df-6ebfcadc-d232-463e-9692-bb218f2306e3')\"\n",
              "              title=\"Convert this dataframe to an interactive table.\"\n",
              "              style=\"display:none;\">\n",
              "        \n",
              "  <svg xmlns=\"http://www.w3.org/2000/svg\" height=\"24px\"viewBox=\"0 0 24 24\"\n",
              "       width=\"24px\">\n",
              "    <path d=\"M0 0h24v24H0V0z\" fill=\"none\"/>\n",
              "    <path d=\"M18.56 5.44l.94 2.06.94-2.06 2.06-.94-2.06-.94-.94-2.06-.94 2.06-2.06.94zm-11 1L8.5 8.5l.94-2.06 2.06-.94-2.06-.94L8.5 2.5l-.94 2.06-2.06.94zm10 10l.94 2.06.94-2.06 2.06-.94-2.06-.94-.94-2.06-.94 2.06-2.06.94z\"/><path d=\"M17.41 7.96l-1.37-1.37c-.4-.4-.92-.59-1.43-.59-.52 0-1.04.2-1.43.59L10.3 9.45l-7.72 7.72c-.78.78-.78 2.05 0 2.83L4 21.41c.39.39.9.59 1.41.59.51 0 1.02-.2 1.41-.59l7.78-7.78 2.81-2.81c.8-.78.8-2.07 0-2.86zM5.41 20L4 18.59l7.72-7.72 1.47 1.35L5.41 20z\"/>\n",
              "  </svg>\n",
              "      </button>\n",
              "      \n",
              "  <style>\n",
              "    .colab-df-container {\n",
              "      display:flex;\n",
              "      flex-wrap:wrap;\n",
              "      gap: 12px;\n",
              "    }\n",
              "\n",
              "    .colab-df-convert {\n",
              "      background-color: #E8F0FE;\n",
              "      border: none;\n",
              "      border-radius: 50%;\n",
              "      cursor: pointer;\n",
              "      display: none;\n",
              "      fill: #1967D2;\n",
              "      height: 32px;\n",
              "      padding: 0 0 0 0;\n",
              "      width: 32px;\n",
              "    }\n",
              "\n",
              "    .colab-df-convert:hover {\n",
              "      background-color: #E2EBFA;\n",
              "      box-shadow: 0px 1px 2px rgba(60, 64, 67, 0.3), 0px 1px 3px 1px rgba(60, 64, 67, 0.15);\n",
              "      fill: #174EA6;\n",
              "    }\n",
              "\n",
              "    [theme=dark] .colab-df-convert {\n",
              "      background-color: #3B4455;\n",
              "      fill: #D2E3FC;\n",
              "    }\n",
              "\n",
              "    [theme=dark] .colab-df-convert:hover {\n",
              "      background-color: #434B5C;\n",
              "      box-shadow: 0px 1px 3px 1px rgba(0, 0, 0, 0.15);\n",
              "      filter: drop-shadow(0px 1px 2px rgba(0, 0, 0, 0.3));\n",
              "      fill: #FFFFFF;\n",
              "    }\n",
              "  </style>\n",
              "\n",
              "      <script>\n",
              "        const buttonEl =\n",
              "          document.querySelector('#df-6ebfcadc-d232-463e-9692-bb218f2306e3 button.colab-df-convert');\n",
              "        buttonEl.style.display =\n",
              "          google.colab.kernel.accessAllowed ? 'block' : 'none';\n",
              "\n",
              "        async function convertToInteractive(key) {\n",
              "          const element = document.querySelector('#df-6ebfcadc-d232-463e-9692-bb218f2306e3');\n",
              "          const dataTable =\n",
              "            await google.colab.kernel.invokeFunction('convertToInteractive',\n",
              "                                                     [key], {});\n",
              "          if (!dataTable) return;\n",
              "\n",
              "          const docLinkHtml = 'Like what you see? Visit the ' +\n",
              "            '<a target=\"_blank\" href=https://colab.research.google.com/notebooks/data_table.ipynb>data table notebook</a>'\n",
              "            + ' to learn more about interactive tables.';\n",
              "          element.innerHTML = '';\n",
              "          dataTable['output_type'] = 'display_data';\n",
              "          await google.colab.output.renderOutput(dataTable, element);\n",
              "          const docLink = document.createElement('div');\n",
              "          docLink.innerHTML = docLinkHtml;\n",
              "          element.appendChild(docLink);\n",
              "        }\n",
              "      </script>\n",
              "    </div>\n",
              "  </div>\n",
              "  "
            ]
          },
          "metadata": {},
          "execution_count": 11
        }
      ]
    },
    {
      "cell_type": "code",
      "source": [
        "# train[train['mask'].str.contains('X')]\n",
        "# train[train.tourn_id == 4986]\n",
        "\n",
        "train[train['mask'].str.contains('?', regex=False)]\n",
        "train[((train.tourn_id == 5141) & (train['mask'].str.contains('?', regex=False)))]"
      ],
      "metadata": {
        "colab": {
          "base_uri": "https://localhost:8080/",
          "height": 551
        },
        "id": "R2wgt22T5Ksb",
        "outputId": "17bd3eea-17fd-4260-861b-002140b48f02"
      },
      "execution_count": 12,
      "outputs": [
        {
          "output_type": "execute_result",
          "data": {
            "text/plain": [
              "                                              mask  player_id  team.id  \\\n",
              "0  11111010?11100011001100011110001000100011010111    43240.0    27610   \n",
              "0  11111010?11100011001100011110001000100011010111    42947.0    27610   \n",
              "0  11111010?11100011001100011110001000100011010111   101957.0    27610   \n",
              "0  11111010?11100011001100011110001000100011010111   128907.0    27610   \n",
              "0  11111010?11100011001100011110001000100011010111   127458.0    27610   \n",
              "0  110011100?0100011001010010010000001110000110110    92618.0    47183   \n",
              "0  110011100?0100011001010010010000001110000110110   128481.0    47183   \n",
              "0  110011100?0100011001010010010000001110000110110    63200.0    47183   \n",
              "0  110011100?0100011001010010010000001110000110110    88263.0    47183   \n",
              "0  110011100?0100011001010010010000001110000110110   100742.0    47183   \n",
              "0  110011100?0100011001010010010000001110000110110   100743.0    47183   \n",
              "0  110000101?0100000001110110000000001100011010111    21714.0       79   \n",
              "0  110000101?0100000001110110000000001100011010111    13771.0       79   \n",
              "0  110000101?0100000001110110000000001100011010111    12659.0       79   \n",
              "0  110000101?0100000001110110000000001100011010111     2424.0       79   \n",
              "0  110000101?0100000001110110000000001100011010111    22263.0       79   \n",
              "\n",
              "   tourn_id  \n",
              "0      5141  \n",
              "0      5141  \n",
              "0      5141  \n",
              "0      5141  \n",
              "0      5141  \n",
              "0      5141  \n",
              "0      5141  \n",
              "0      5141  \n",
              "0      5141  \n",
              "0      5141  \n",
              "0      5141  \n",
              "0      5141  \n",
              "0      5141  \n",
              "0      5141  \n",
              "0      5141  \n",
              "0      5141  "
            ],
            "text/html": [
              "\n",
              "  <div id=\"df-3d60d4cc-78a3-48bd-9bcb-8ff1dcb9a7dc\">\n",
              "    <div class=\"colab-df-container\">\n",
              "      <div>\n",
              "<style scoped>\n",
              "    .dataframe tbody tr th:only-of-type {\n",
              "        vertical-align: middle;\n",
              "    }\n",
              "\n",
              "    .dataframe tbody tr th {\n",
              "        vertical-align: top;\n",
              "    }\n",
              "\n",
              "    .dataframe thead th {\n",
              "        text-align: right;\n",
              "    }\n",
              "</style>\n",
              "<table border=\"1\" class=\"dataframe\">\n",
              "  <thead>\n",
              "    <tr style=\"text-align: right;\">\n",
              "      <th></th>\n",
              "      <th>mask</th>\n",
              "      <th>player_id</th>\n",
              "      <th>team.id</th>\n",
              "      <th>tourn_id</th>\n",
              "    </tr>\n",
              "  </thead>\n",
              "  <tbody>\n",
              "    <tr>\n",
              "      <th>0</th>\n",
              "      <td>11111010?11100011001100011110001000100011010111</td>\n",
              "      <td>43240.0</td>\n",
              "      <td>27610</td>\n",
              "      <td>5141</td>\n",
              "    </tr>\n",
              "    <tr>\n",
              "      <th>0</th>\n",
              "      <td>11111010?11100011001100011110001000100011010111</td>\n",
              "      <td>42947.0</td>\n",
              "      <td>27610</td>\n",
              "      <td>5141</td>\n",
              "    </tr>\n",
              "    <tr>\n",
              "      <th>0</th>\n",
              "      <td>11111010?11100011001100011110001000100011010111</td>\n",
              "      <td>101957.0</td>\n",
              "      <td>27610</td>\n",
              "      <td>5141</td>\n",
              "    </tr>\n",
              "    <tr>\n",
              "      <th>0</th>\n",
              "      <td>11111010?11100011001100011110001000100011010111</td>\n",
              "      <td>128907.0</td>\n",
              "      <td>27610</td>\n",
              "      <td>5141</td>\n",
              "    </tr>\n",
              "    <tr>\n",
              "      <th>0</th>\n",
              "      <td>11111010?11100011001100011110001000100011010111</td>\n",
              "      <td>127458.0</td>\n",
              "      <td>27610</td>\n",
              "      <td>5141</td>\n",
              "    </tr>\n",
              "    <tr>\n",
              "      <th>0</th>\n",
              "      <td>110011100?0100011001010010010000001110000110110</td>\n",
              "      <td>92618.0</td>\n",
              "      <td>47183</td>\n",
              "      <td>5141</td>\n",
              "    </tr>\n",
              "    <tr>\n",
              "      <th>0</th>\n",
              "      <td>110011100?0100011001010010010000001110000110110</td>\n",
              "      <td>128481.0</td>\n",
              "      <td>47183</td>\n",
              "      <td>5141</td>\n",
              "    </tr>\n",
              "    <tr>\n",
              "      <th>0</th>\n",
              "      <td>110011100?0100011001010010010000001110000110110</td>\n",
              "      <td>63200.0</td>\n",
              "      <td>47183</td>\n",
              "      <td>5141</td>\n",
              "    </tr>\n",
              "    <tr>\n",
              "      <th>0</th>\n",
              "      <td>110011100?0100011001010010010000001110000110110</td>\n",
              "      <td>88263.0</td>\n",
              "      <td>47183</td>\n",
              "      <td>5141</td>\n",
              "    </tr>\n",
              "    <tr>\n",
              "      <th>0</th>\n",
              "      <td>110011100?0100011001010010010000001110000110110</td>\n",
              "      <td>100742.0</td>\n",
              "      <td>47183</td>\n",
              "      <td>5141</td>\n",
              "    </tr>\n",
              "    <tr>\n",
              "      <th>0</th>\n",
              "      <td>110011100?0100011001010010010000001110000110110</td>\n",
              "      <td>100743.0</td>\n",
              "      <td>47183</td>\n",
              "      <td>5141</td>\n",
              "    </tr>\n",
              "    <tr>\n",
              "      <th>0</th>\n",
              "      <td>110000101?0100000001110110000000001100011010111</td>\n",
              "      <td>21714.0</td>\n",
              "      <td>79</td>\n",
              "      <td>5141</td>\n",
              "    </tr>\n",
              "    <tr>\n",
              "      <th>0</th>\n",
              "      <td>110000101?0100000001110110000000001100011010111</td>\n",
              "      <td>13771.0</td>\n",
              "      <td>79</td>\n",
              "      <td>5141</td>\n",
              "    </tr>\n",
              "    <tr>\n",
              "      <th>0</th>\n",
              "      <td>110000101?0100000001110110000000001100011010111</td>\n",
              "      <td>12659.0</td>\n",
              "      <td>79</td>\n",
              "      <td>5141</td>\n",
              "    </tr>\n",
              "    <tr>\n",
              "      <th>0</th>\n",
              "      <td>110000101?0100000001110110000000001100011010111</td>\n",
              "      <td>2424.0</td>\n",
              "      <td>79</td>\n",
              "      <td>5141</td>\n",
              "    </tr>\n",
              "    <tr>\n",
              "      <th>0</th>\n",
              "      <td>110000101?0100000001110110000000001100011010111</td>\n",
              "      <td>22263.0</td>\n",
              "      <td>79</td>\n",
              "      <td>5141</td>\n",
              "    </tr>\n",
              "  </tbody>\n",
              "</table>\n",
              "</div>\n",
              "      <button class=\"colab-df-convert\" onclick=\"convertToInteractive('df-3d60d4cc-78a3-48bd-9bcb-8ff1dcb9a7dc')\"\n",
              "              title=\"Convert this dataframe to an interactive table.\"\n",
              "              style=\"display:none;\">\n",
              "        \n",
              "  <svg xmlns=\"http://www.w3.org/2000/svg\" height=\"24px\"viewBox=\"0 0 24 24\"\n",
              "       width=\"24px\">\n",
              "    <path d=\"M0 0h24v24H0V0z\" fill=\"none\"/>\n",
              "    <path d=\"M18.56 5.44l.94 2.06.94-2.06 2.06-.94-2.06-.94-.94-2.06-.94 2.06-2.06.94zm-11 1L8.5 8.5l.94-2.06 2.06-.94-2.06-.94L8.5 2.5l-.94 2.06-2.06.94zm10 10l.94 2.06.94-2.06 2.06-.94-2.06-.94-.94-2.06-.94 2.06-2.06.94z\"/><path d=\"M17.41 7.96l-1.37-1.37c-.4-.4-.92-.59-1.43-.59-.52 0-1.04.2-1.43.59L10.3 9.45l-7.72 7.72c-.78.78-.78 2.05 0 2.83L4 21.41c.39.39.9.59 1.41.59.51 0 1.02-.2 1.41-.59l7.78-7.78 2.81-2.81c.8-.78.8-2.07 0-2.86zM5.41 20L4 18.59l7.72-7.72 1.47 1.35L5.41 20z\"/>\n",
              "  </svg>\n",
              "      </button>\n",
              "      \n",
              "  <style>\n",
              "    .colab-df-container {\n",
              "      display:flex;\n",
              "      flex-wrap:wrap;\n",
              "      gap: 12px;\n",
              "    }\n",
              "\n",
              "    .colab-df-convert {\n",
              "      background-color: #E8F0FE;\n",
              "      border: none;\n",
              "      border-radius: 50%;\n",
              "      cursor: pointer;\n",
              "      display: none;\n",
              "      fill: #1967D2;\n",
              "      height: 32px;\n",
              "      padding: 0 0 0 0;\n",
              "      width: 32px;\n",
              "    }\n",
              "\n",
              "    .colab-df-convert:hover {\n",
              "      background-color: #E2EBFA;\n",
              "      box-shadow: 0px 1px 2px rgba(60, 64, 67, 0.3), 0px 1px 3px 1px rgba(60, 64, 67, 0.15);\n",
              "      fill: #174EA6;\n",
              "    }\n",
              "\n",
              "    [theme=dark] .colab-df-convert {\n",
              "      background-color: #3B4455;\n",
              "      fill: #D2E3FC;\n",
              "    }\n",
              "\n",
              "    [theme=dark] .colab-df-convert:hover {\n",
              "      background-color: #434B5C;\n",
              "      box-shadow: 0px 1px 3px 1px rgba(0, 0, 0, 0.15);\n",
              "      filter: drop-shadow(0px 1px 2px rgba(0, 0, 0, 0.3));\n",
              "      fill: #FFFFFF;\n",
              "    }\n",
              "  </style>\n",
              "\n",
              "      <script>\n",
              "        const buttonEl =\n",
              "          document.querySelector('#df-3d60d4cc-78a3-48bd-9bcb-8ff1dcb9a7dc button.colab-df-convert');\n",
              "        buttonEl.style.display =\n",
              "          google.colab.kernel.accessAllowed ? 'block' : 'none';\n",
              "\n",
              "        async function convertToInteractive(key) {\n",
              "          const element = document.querySelector('#df-3d60d4cc-78a3-48bd-9bcb-8ff1dcb9a7dc');\n",
              "          const dataTable =\n",
              "            await google.colab.kernel.invokeFunction('convertToInteractive',\n",
              "                                                     [key], {});\n",
              "          if (!dataTable) return;\n",
              "\n",
              "          const docLinkHtml = 'Like what you see? Visit the ' +\n",
              "            '<a target=\"_blank\" href=https://colab.research.google.com/notebooks/data_table.ipynb>data table notebook</a>'\n",
              "            + ' to learn more about interactive tables.';\n",
              "          element.innerHTML = '';\n",
              "          dataTable['output_type'] = 'display_data';\n",
              "          await google.colab.output.renderOutput(dataTable, element);\n",
              "          const docLink = document.createElement('div');\n",
              "          docLink.innerHTML = docLinkHtml;\n",
              "          element.appendChild(docLink);\n",
              "        }\n",
              "      </script>\n",
              "    </div>\n",
              "  </div>\n",
              "  "
            ]
          },
          "metadata": {},
          "execution_count": 12
        }
      ]
    },
    {
      "cell_type": "code",
      "source": [
        "print(train[train.tourn_id == 5462][\"mask\"].str.len().describe())\n",
        "# with pd.option_context('display.max_rows', 50, 'display.max_columns', 5, 'display.max_colwidth', 512):\n",
        "#    print(train[train.tourn_id == 5462][\"mask\"].head(50))\n",
        "print()\n",
        "\n",
        "df1 = pd.DataFrame(train['tourn_id'])\n",
        "df1['len_mask'] = train[\"mask\"].str.len()\n",
        "\n",
        "df1 = df1.groupby(['tourn_id']).agg({'len_mask': lambda x: list(x.unique())})\n",
        "\n",
        "df2 = df1[df1.len_mask.map(lambda x: len(x)) > 1]\n",
        "print(df2)\n",
        "\n",
        "print('-----------------------------------------------------------')\n",
        "print('-----------------------------------------------------------')\n",
        "\n",
        "print(\"\", len(df2) / train.tourn_id.unique().shape[0])\n",
        "\n",
        "print(\"\", len(df2.merge(train, left_on='tourn_id', right_on='tourn_id')) / len(train))"
      ],
      "metadata": {
        "colab": {
          "base_uri": "https://localhost:8080/"
        },
        "id": "RzQuXiSjkZC2",
        "outputId": "5dcb7a09-c1a8-41f3-c64c-613bff02a99c"
      },
      "execution_count": 13,
      "outputs": [
        {
          "output_type": "stream",
          "name": "stdout",
          "text": [
            "count    192.000000\n",
            "mean      60.375000\n",
            "std       31.256162\n",
            "min       36.000000\n",
            "25%       36.000000\n",
            "50%       36.000000\n",
            "75%      108.000000\n",
            "max      108.000000\n",
            "Name: mask, dtype: float64\n",
            "\n",
            "                                                   len_mask\n",
            "tourn_id                                                   \n",
            "5462                                          [108, 72, 36]\n",
            "5553      [234, 189, 198, 144, 162, 117, 126, 153, 108, ...\n",
            "5554      [234, 198, 189, 153, 117, 126, 162, 90, 81, 72...\n",
            "5703                                               [36, 24]\n",
            "5760                                     [144, 108, 72, 36]\n",
            "5864                                  [126, 90, 81, 36, 45]\n",
            "6026                                         [100, 112, 98]\n",
            "6085         [269, 224, 179, 180, 135, 134, 90, 89, 45, 44]\n",
            "6090                                   [435, 434, 433, 431]\n",
            "6249                      [252, 216, 180, 144, 108, 72, 36]\n",
            "6254                           [216, 180, 144, 108, 72, 36]\n",
            "6255      [215, 180, 179, 143, 144, 108, 107, 72, 71, 35...\n",
            "-----------------------------------------------------------\n",
            "-----------------------------------------------------------\n",
            " 0.017777777777777778\n",
            " 0.10365865802733869\n"
          ]
        }
      ]
    },
    {
      "cell_type": "markdown",
      "source": [
        "## TODO:\n",
        "разбить турнир с разным числом вопросов в турах на несколько турниров, добавить в train"
      ],
      "metadata": {
        "id": "pjZ4iP4rn2Z_"
      }
    },
    {
      "cell_type": "code",
      "source": [
        "tourn_w_rounds = df2.index.tolist()"
      ],
      "metadata": {
        "id": "Sc4fCz4fCo8R"
      },
      "execution_count": 24,
      "outputs": []
    },
    {
      "cell_type": "code",
      "source": [
        "tourn_w_rounds = df2.index.tolist()\n",
        "tourn_w_rounds  # [5462, 5553, 5554, 5703, 5760, 5864, 6026, 6085, 6090, 6249, 6254, 6255]\n",
        "df_tourn_w_rounds = pd.DataFrame(columns=['mask',\t'team.id', 'player.id',\t'tourn_id'])\n",
        "for file in glob.glob(dir_path + '/*.csv'):\n",
        "    \n",
        "    tourn_id_str = file[46:50]\n",
        "    # df_tourn_w_rounds = pd.concat((df_tourn_w_rounds, ), axis=0)\n",
        "    df3 = pd.read_csv(file)\n",
        "    for round_id in df3['Тур'].unique():\n",
        "        df_round = df3[df3['Тур'] == round_id]\n",
        "        df_round.dropna(axis=1, inplace=True, how='any')\n",
        "        df_round['tourn_id'] = \n",
        "df_tourn_w_rounds"
      ],
      "metadata": {
        "colab": {
          "base_uri": "https://localhost:8080/",
          "height": 130
        },
        "id": "YF4ARHrikbGa",
        "outputId": "6697c56e-694a-4861-fd50-d7f4e712974d"
      },
      "execution_count": 22,
      "outputs": [
        {
          "output_type": "error",
          "ename": "SyntaxError",
          "evalue": "ignored",
          "traceback": [
            "\u001b[0;36m  File \u001b[0;32m\"<ipython-input-22-13ccb1013a16>\"\u001b[0;36m, line \u001b[0;32m12\u001b[0m\n\u001b[0;31m    df_round['tourn_id'] =\u001b[0m\n\u001b[0m                           ^\u001b[0m\n\u001b[0;31mSyntaxError\u001b[0m\u001b[0;31m:\u001b[0m invalid syntax\n"
          ]
        }
      ]
    },
    {
      "cell_type": "code",
      "source": [
        "train['mask'].str.len().max()"
      ],
      "metadata": {
        "colab": {
          "base_uri": "https://localhost:8080/"
        },
        "id": "kwjm1QoE8-lO",
        "outputId": "060b5f50-ed03-4f27-f817-e423a0e45425"
      },
      "execution_count": 15,
      "outputs": [
        {
          "output_type": "execute_result",
          "data": {
            "text/plain": [
              "500"
            ]
          },
          "metadata": {},
          "execution_count": 15
        }
      ]
    },
    {
      "cell_type": "code",
      "source": [
        "sample = np.random.choice(train.tourn_id.unique(), 10)\n",
        "fig, ax = plt.subplots(2, 5)\n",
        "fig.set_size_inches(12, 8)\n",
        "for idx, tourn_id in enumerate(sample):\n",
        "    tourn = train[train.tourn_id == tourn_id]\n",
        "    ans_mask = tourn[\"mask\"].map(lambda x: [int(i) if i in '01' else 0.5 for i in x]).tolist()\n",
        "    columns=[str(i) for i in range(len(ans_mask[0]))]\n",
        "    ans_arr = pd.DataFrame(ans_mask, columns=columns).to_numpy()\n",
        "\n",
        "    ans_rate = pd.DataFrame(ans_mask, columns=columns).to_numpy().sum(axis=0) / ans_arr.shape[0]\n",
        "\n",
        "    # interpolate.interp1d\n",
        "    ax[idx // 5, idx % 5].plot(np.sort(ans_rate[((ans_rate > 0) & (ans_rate < 0.99999999))]))"
      ],
      "metadata": {
        "colab": {
          "base_uri": "https://localhost:8080/",
          "height": 579
        },
        "id": "Y-bS3fYrzOR8",
        "outputId": "028e3ad9-24a3-49fb-d582-ccaf37c25f17"
      },
      "execution_count": 16,
      "outputs": [
        {
          "output_type": "display_data",
          "data": {
            "text/plain": [
              "<Figure size 1200x800 with 10 Axes>"
            ],
            "image/png": "[encoded data removed]"
          },
          "metadata": {}
        }
      ]
    },
    {
      "cell_type": "markdown",
      "source": [
        "## TODO: \n",
        "в графиках выше считается, что все игроки команды, давшей правильный ответ, взяли вопрос. По оси $y$ доля ответивших игроков, по $x$ порядковый номер вопроса по убыванию сложности. Надо построить график с долей ответивших команд"
      ],
      "metadata": {
        "id": "CVZW_Q8cKeFr"
      }
    },
    {
      "cell_type": "code",
      "source": [
        "\n",
        "from sklearn.linear_model import LinearRegression, LogisticRegression\n",
        "\n",
        "def get_complexity_data(tourn):\n",
        "    if tourn[\"mask\"].str.len().unique().size > 1:\n",
        "        print(tourn.tourn_id.values[0])\n",
        "    ans_mask = tourn[\"mask\"].map(lambda x: [int(i) if i in '01' else 0.5 for i in x]).tolist()\n",
        "    columns=[str(i) for i in range(len(ans_mask[0]))]\n",
        "    ans_arr = pd.DataFrame(ans_mask, columns=columns).to_numpy()\n",
        "    \n",
        "    q_rate = ans_arr.sum(axis=0) / ans_arr.shape[0]\n",
        "\n",
        "    return ans_arr, q_rate\n",
        "\n"
      ],
      "metadata": {
        "id": "1kPsCEUfBnVY"
      },
      "execution_count": 17,
      "outputs": []
    },
    {
      "cell_type": "markdown",
      "source": [
        "## TODO:\n",
        "Переделать графики выше с использованием $\\texttt{get_complexity_function}$ . Сделать столько же сэмплов с линейным предсказанием простоты вопросов."
      ],
      "metadata": {
        "id": "00WpVhooa-0T"
      }
    },
    {
      "cell_type": "code",
      "source": [
        "fig, ax = plt.subplots(1, 3)\n",
        "fig.set_size_inches(12, 4)\n",
        "for idx, tourn_id in enumerate(train.tourn_id.unique()[:3]):\n",
        "    batch = train[train.tourn_id == tourn_id]\n",
        "    ans_arr, q_rate = get_complexity_data(batch)\n",
        "    indices = np.argsort(1 - q_rate)\n",
        "    inv_indices = np.empty_like(indices)\n",
        "    inv_indices[indices] = np.arange(len(indices))\n",
        "\n",
        "    lr = LinearRegression()\n",
        "    \n",
        "    lr.fit(\n",
        "        inv_indices.reshape(-1, 1), (1 - q_rate).reshape(-1, 1)\n",
        "    )\n",
        "    simplicity = lr.predict(inv_indices.reshape(-1, 1))\n",
        "    \n",
        "    ax[idx].plot(((1 - q_rate).flatten()))\n",
        "    ax[idx].plot((simplicity.flatten()))\n",
        "\n"
      ],
      "metadata": {
        "colab": {
          "base_uri": "https://localhost:8080/",
          "height": 316
        },
        "id": "7mWVEeUFTb8b",
        "outputId": "4b63fc27-331b-49ae-dfd6-b6fe4a814fa5"
      },
      "execution_count": 18,
      "outputs": [
        {
          "output_type": "display_data",
          "data": {
            "text/plain": [
              "<Figure size 1200x400 with 3 Axes>"
            ],
            "image/png": "[encoded data removed]"
          },
          "metadata": {}
        }
      ]
    },
    {
      "cell_type": "code",
      "source": [
        "from scipy.sparse import coo_array\n",
        "\n",
        "tourn_ids = train.tourn_id.unique()\n",
        "player_ids = train.player_id.unique()\n",
        "player_ids = player_ids[~np.isnan(player_ids)].astype(int)\n",
        "\n",
        "rowX  = np.empty((40_000_000, 1))\n",
        "colX  = np.empty((40_000_000, 1))\n",
        "dataX = np.empty((40_000_000, 1))\n",
        "\n",
        "rowy  = np.empty((20_000_000, 1))\n",
        "coly  = np.empty((20_000_000, 1))\n",
        "datay = np.empty((20_000_000, 1))"
      ],
      "metadata": {
        "id": "Rc7opuV-khd9"
      },
      "execution_count": 19,
      "outputs": []
    },
    {
      "cell_type": "code",
      "source": [
        "\n",
        "\n",
        "np.argwhere(player_ids == 5195).item()"
      ],
      "metadata": {
        "colab": {
          "base_uri": "https://localhost:8080/"
        },
        "id": "3Pg2U0h_K8JT",
        "outputId": "8d569d0b-cbe2-4e7a-fc6d-2db89c0f4fd8"
      },
      "execution_count": 20,
      "outputs": [
        {
          "output_type": "execute_result",
          "data": {
            "text/plain": [
              "5920"
            ]
          },
          "metadata": {},
          "execution_count": 20
        }
      ]
    },
    {
      "cell_type": "code",
      "source": [
        "sample_idx = 0\n",
        "for tourn_idx, tourn_id in enumerate(tourn_ids):\n",
        "    if tourn_id in tourn_w_rounds: \n",
        "        continue\n",
        "    tournament = train[train.tourn_id == tourn_id]\n",
        "    ans_arr, q_rate = get_complexity_data(tournament)\n",
        "    indices = np.argsort(1 - q_rate)\n",
        "    inv_indices = np.empty_like(indices)\n",
        "    inv_indices[indices] = np.arange(len(indices))\n",
        "\n",
        "    lr = LinearRegression()\n",
        "    \n",
        "    lr.fit(\n",
        "        inv_indices.reshape(-1, 1), (1 - q_rate).reshape(-1, 1)\n",
        "    )\n",
        "    simplicity = lr.predict(inv_indices.reshape(-1, 1))\n",
        "\n",
        "    assert ans_arr.shape[0] == len(tournament)\n",
        "    \n",
        "    \n",
        "    for player_id, answers in zip(tournament.player_id, ans_arr):\n",
        "        try:\n",
        "            player_id = int(player_id)\n",
        "        except Exception as e:\n",
        "            # print(e)\n",
        "            # print(tourn_idx)  # tourn_idxes where player_id NaN: 4 22 251 379 383 384 395 462 546 564 573 597\n",
        "            continue\n",
        "        \n",
        "        for question_rate, answer in zip(simplicity, answers):\n",
        "            rowX[sample_idx] = sample_idx // 2\n",
        "            colX[sample_idx] = tourn_idx\n",
        "            dataX[sample_idx] = question_rate\n",
        "        \n",
        "            rowX[sample_idx + 1] = sample_idx // 2\n",
        "            colX[sample_idx + 1] = len(tourn_ids) + np.argwhere(player_ids == player_id).item()\n",
        "            dataX[sample_idx + 1] = 1\n",
        "\n",
        "            rowy[sample_idx // 2] = sample_idx // 2\n",
        "            coly[sample_idx // 2] = 0\n",
        "            datay[sample_idx // 2] = answer\n",
        "\n",
        "            sample_idx += 2\n",
        "\n",
        "rowX = rowX[:sample_idx]\n",
        "colX = colX[:sample_idx]\n",
        "dataX = dataX[:sample_idx]\n",
        "\n",
        "rowy = rowy[:sample_idx // 2]\n",
        "coly = coly[:sample_idx // 2]\n",
        "datay = datay[:sample_idx // 2]"
      ],
      "metadata": {
        "id": "63CmLKH1X6-T"
      },
      "execution_count": 25,
      "outputs": []
    },
    {
      "cell_type": "code",
      "source": [
        "X_train = coo_array( \n",
        "    (dataX.squeeze(), (rowX.squeeze(), colX.squeeze())), \n",
        "    shape=(sample_idx // 2, len(tourn_ids) + len(player_ids))\n",
        ")\n",
        "\n",
        "\n",
        "y_train  = coo_array( \n",
        "    (datay.squeeze(), (rowy.squeeze(), coly.squeeze())), \n",
        "    shape=(sample_idx // 2, 1)\n",
        ")"
      ],
      "metadata": {
        "id": "W1yr11UMN_Fs"
      },
      "execution_count": 26,
      "outputs": []
    },
    {
      "cell_type": "code",
      "source": [
        "X_train.shape, y_train.shape"
      ],
      "metadata": {
        "colab": {
          "base_uri": "https://localhost:8080/"
        },
        "id": "IZ1iLFF2fONk",
        "outputId": "6013597a-58ad-4e47-aa5e-bb78ee6690e4"
      },
      "execution_count": 27,
      "outputs": [
        {
          "output_type": "execute_result",
          "data": {
            "text/plain": [
              "((16153927, 59776), (16153927, 1))"
            ]
          },
          "metadata": {},
          "execution_count": 27
        }
      ]
    },
    {
      "cell_type": "code",
      "source": [
        "\n",
        "lr = LogisticRegression(max_iter=10000)\n",
        "lr.fit(X_train, y_train.todense(order='C').astype(int).ravel())"
      ],
      "metadata": {
        "colab": {
          "base_uri": "https://localhost:8080/",
          "height": 75
        },
        "id": "qnbR2VSp7FqY",
        "outputId": "e2cbffa9-e777-4c35-f945-a8445633640b"
      },
      "execution_count": 28,
      "outputs": [
        {
          "output_type": "execute_result",
          "data": {
            "text/plain": [
              "LogisticRegression(max_iter=10000)"
            ],
            "text/html": [
              "<style>#sk-container-id-1 {color: black;background-color: white;}#sk-container-id-1 pre{padding: 0;}#sk-container-id-1 div.sk-toggleable {background-color: white;}#sk-container-id-1 label.sk-toggleable__label {cursor: pointer;display: block;width: 100%;margin-bottom: 0;padding: 0.3em;box-sizing: border-box;text-align: center;}#sk-container-id-1 label.sk-toggleable__label-arrow:before {content: \"▸\";float: left;margin-right: 0.25em;color: #696969;}#sk-container-id-1 label.sk-toggleable__label-arrow:hover:before {color: black;}#sk-container-id-1 div.sk-estimator:hover label.sk-toggleable__label-arrow:before {color: black;}#sk-container-id-1 div.sk-toggleable__content {max-height: 0;max-width: 0;overflow: hidden;text-align: left;background-color: #f0f8ff;}#sk-container-id-1 div.sk-toggleable__content pre {margin: 0.2em;color: black;border-radius: 0.25em;background-color: #f0f8ff;}#sk-container-id-1 input.sk-toggleable__control:checked~div.sk-toggleable__content {max-height: 200px;max-width: 100%;overflow: auto;}#sk-container-id-1 input.sk-toggleable__control:checked~label.sk-toggleable__label-arrow:before {content: \"▾\";}#sk-container-id-1 div.sk-estimator input.sk-toggleable__control:checked~label.sk-toggleable__label {background-color: #d4ebff;}#sk-container-id-1 div.sk-label input.sk-toggleable__control:checked~label.sk-toggleable__label {background-color: #d4ebff;}#sk-container-id-1 input.sk-hidden--visually {border: 0;clip: rect(1px 1px 1px 1px);clip: rect(1px, 1px, 1px, 1px);height: 1px;margin: -1px;overflow: hidden;padding: 0;position: absolute;width: 1px;}#sk-container-id-1 div.sk-estimator {font-family: monospace;background-color: #f0f8ff;border: 1px dotted black;border-radius: 0.25em;box-sizing: border-box;margin-bottom: 0.5em;}#sk-container-id-1 div.sk-estimator:hover {background-color: #d4ebff;}#sk-container-id-1 div.sk-parallel-item::after {content: \"\";width: 100%;border-bottom: 1px solid gray;flex-grow: 1;}#sk-container-id-1 div.sk-label:hover label.sk-toggleable__label {background-color: #d4ebff;}#sk-container-id-1 div.sk-serial::before {content: \"\";position: absolute;border-left: 1px solid gray;box-sizing: border-box;top: 0;bottom: 0;left: 50%;z-index: 0;}#sk-container-id-1 div.sk-serial {display: flex;flex-direction: column;align-items: center;background-color: white;padding-right: 0.2em;padding-left: 0.2em;position: relative;}#sk-container-id-1 div.sk-item {position: relative;z-index: 1;}#sk-container-id-1 div.sk-parallel {display: flex;align-items: stretch;justify-content: center;background-color: white;position: relative;}#sk-container-id-1 div.sk-item::before, #sk-container-id-1 div.sk-parallel-item::before {content: \"\";position: absolute;border-left: 1px solid gray;box-sizing: border-box;top: 0;bottom: 0;left: 50%;z-index: -1;}#sk-container-id-1 div.sk-parallel-item {display: flex;flex-direction: column;z-index: 1;position: relative;background-color: white;}#sk-container-id-1 div.sk-parallel-item:first-child::after {align-self: flex-end;width: 50%;}#sk-container-id-1 div.sk-parallel-item:last-child::after {align-self: flex-start;width: 50%;}#sk-container-id-1 div.sk-parallel-item:only-child::after {width: 0;}#sk-container-id-1 div.sk-dashed-wrapped {border: 1px dashed gray;margin: 0 0.4em 0.5em 0.4em;box-sizing: border-box;padding-bottom: 0.4em;background-color: white;}#sk-container-id-1 div.sk-label label {font-family: monospace;font-weight: bold;display: inline-block;line-height: 1.2em;}#sk-container-id-1 div.sk-label-container {text-align: center;}#sk-container-id-1 div.sk-container {/* jupyter's `normalize.less` sets `[hidden] { display: none; }` but bootstrap.min.css set `[hidden] { display: none !important; }` so we also need the `!important` here to be able to override the default hidden behavior on the sphinx rendered scikit-learn.org. See: https://github.com/scikit-learn/scikit-learn/issues/21755 */display: inline-block !important;position: relative;}#sk-container-id-1 div.sk-text-repr-fallback {display: none;}</style><div id=\"sk-container-id-1\" class=\"sk-top-container\"><div class=\"sk-text-repr-fallback\"><pre>LogisticRegression(max_iter=10000)</pre><b>In a Jupyter environment, please rerun this cell to show the HTML representation or trust the notebook. <br />On GitHub, the HTML representation is unable to render, please try loading this page with nbviewer.org.</b></div><div class=\"sk-container\" hidden><div class=\"sk-item\"><div class=\"sk-estimator sk-toggleable\"><input class=\"sk-toggleable__control sk-hidden--visually\" id=\"sk-estimator-id-1\" type=\"checkbox\" checked><label for=\"sk-estimator-id-1\" class=\"sk-toggleable__label sk-toggleable__label-arrow\">LogisticRegression</label><div class=\"sk-toggleable__content\"><pre>LogisticRegression(max_iter=10000)</pre></div></div></div></div></div>"
            ]
          },
          "metadata": {},
          "execution_count": 28
        }
      ]
    },
    {
      "cell_type": "code",
      "source": [
        "rating_tourn = lr.coef_[0, :len(tourn_ids)]\n",
        "rating_players = lr.coef_[0, len(tourn_ids):]\n",
        "print(rating_tourn.min(), rating_tourn.max())\n",
        "print(rating_players.min(), rating_players.max())"
      ],
      "metadata": {
        "colab": {
          "base_uri": "https://localhost:8080/"
        },
        "id": "7NE-Y6zK93sJ",
        "outputId": "130dd18e-10b7-4c65-f06d-02dadf006778"
      },
      "execution_count": 29,
      "outputs": [
        {
          "output_type": "stream",
          "name": "stdout",
          "text": [
            "-14.145534589656382 0.0\n",
            "-3.2467042153889993 3.901418386892662\n"
          ]
        }
      ]
    },
    {
      "cell_type": "code",
      "source": [
        "players.loc[player_ids[np.argpartition(rating_players, -4)[-4:]]]\n"
      ],
      "metadata": {
        "colab": {
          "base_uri": "https://localhost:8080/",
          "height": 206
        },
        "id": "RCSuTgPi3kr-",
        "outputId": "2908ae9f-dc6a-487a-865b-23243671d09b"
      },
      "execution_count": 34,
      "outputs": [
        {
          "output_type": "execute_result",
          "data": {
            "text/plain": [
              "             name    patronymic    surname\n",
              "id                                        \n",
              "27822      Михаил  Владимирович  Савченков\n",
              "27403      Максим    Михайлович      Руссо\n",
              "28751        Иван    Николаевич    Семушин\n",
              "4270   Александра  Владимировна     Брутер"
            ],
            "text/html": [
              "\n",
              "  <div id=\"df-16f9affc-73c7-42e5-bb7a-95d1c12b6d3d\">\n",
              "    <div class=\"colab-df-container\">\n",
              "      <div>\n",
              "<style scoped>\n",
              "    .dataframe tbody tr th:only-of-type {\n",
              "        vertical-align: middle;\n",
              "    }\n",
              "\n",
              "    .dataframe tbody tr th {\n",
              "        vertical-align: top;\n",
              "    }\n",
              "\n",
              "    .dataframe thead th {\n",
              "        text-align: right;\n",
              "    }\n",
              "</style>\n",
              "<table border=\"1\" class=\"dataframe\">\n",
              "  <thead>\n",
              "    <tr style=\"text-align: right;\">\n",
              "      <th></th>\n",
              "      <th>name</th>\n",
              "      <th>patronymic</th>\n",
              "      <th>surname</th>\n",
              "    </tr>\n",
              "    <tr>\n",
              "      <th>id</th>\n",
              "      <th></th>\n",
              "      <th></th>\n",
              "      <th></th>\n",
              "    </tr>\n",
              "  </thead>\n",
              "  <tbody>\n",
              "    <tr>\n",
              "      <th>27822</th>\n",
              "      <td>Михаил</td>\n",
              "      <td>Владимирович</td>\n",
              "      <td>Савченков</td>\n",
              "    </tr>\n",
              "    <tr>\n",
              "      <th>27403</th>\n",
              "      <td>Максим</td>\n",
              "      <td>Михайлович</td>\n",
              "      <td>Руссо</td>\n",
              "    </tr>\n",
              "    <tr>\n",
              "      <th>28751</th>\n",
              "      <td>Иван</td>\n",
              "      <td>Николаевич</td>\n",
              "      <td>Семушин</td>\n",
              "    </tr>\n",
              "    <tr>\n",
              "      <th>4270</th>\n",
              "      <td>Александра</td>\n",
              "      <td>Владимировна</td>\n",
              "      <td>Брутер</td>\n",
              "    </tr>\n",
              "  </tbody>\n",
              "</table>\n",
              "</div>\n",
              "      <button class=\"colab-df-convert\" onclick=\"convertToInteractive('df-16f9affc-73c7-42e5-bb7a-95d1c12b6d3d')\"\n",
              "              title=\"Convert this dataframe to an interactive table.\"\n",
              "              style=\"display:none;\">\n",
              "        \n",
              "  <svg xmlns=\"http://www.w3.org/2000/svg\" height=\"24px\"viewBox=\"0 0 24 24\"\n",
              "       width=\"24px\">\n",
              "    <path d=\"M0 0h24v24H0V0z\" fill=\"none\"/>\n",
              "    <path d=\"M18.56 5.44l.94 2.06.94-2.06 2.06-.94-2.06-.94-.94-2.06-.94 2.06-2.06.94zm-11 1L8.5 8.5l.94-2.06 2.06-.94-2.06-.94L8.5 2.5l-.94 2.06-2.06.94zm10 10l.94 2.06.94-2.06 2.06-.94-2.06-.94-.94-2.06-.94 2.06-2.06.94z\"/><path d=\"M17.41 7.96l-1.37-1.37c-.4-.4-.92-.59-1.43-.59-.52 0-1.04.2-1.43.59L10.3 9.45l-7.72 7.72c-.78.78-.78 2.05 0 2.83L4 21.41c.39.39.9.59 1.41.59.51 0 1.02-.2 1.41-.59l7.78-7.78 2.81-2.81c.8-.78.8-2.07 0-2.86zM5.41 20L4 18.59l7.72-7.72 1.47 1.35L5.41 20z\"/>\n",
              "  </svg>\n",
              "      </button>\n",
              "      \n",
              "  <style>\n",
              "    .colab-df-container {\n",
              "      display:flex;\n",
              "      flex-wrap:wrap;\n",
              "      gap: 12px;\n",
              "    }\n",
              "\n",
              "    .colab-df-convert {\n",
              "      background-color: #E8F0FE;\n",
              "      border: none;\n",
              "      border-radius: 50%;\n",
              "      cursor: pointer;\n",
              "      display: none;\n",
              "      fill: #1967D2;\n",
              "      height: 32px;\n",
              "      padding: 0 0 0 0;\n",
              "      width: 32px;\n",
              "    }\n",
              "\n",
              "    .colab-df-convert:hover {\n",
              "      background-color: #E2EBFA;\n",
              "      box-shadow: 0px 1px 2px rgba(60, 64, 67, 0.3), 0px 1px 3px 1px rgba(60, 64, 67, 0.15);\n",
              "      fill: #174EA6;\n",
              "    }\n",
              "\n",
              "    [theme=dark] .colab-df-convert {\n",
              "      background-color: #3B4455;\n",
              "      fill: #D2E3FC;\n",
              "    }\n",
              "\n",
              "    [theme=dark] .colab-df-convert:hover {\n",
              "      background-color: #434B5C;\n",
              "      box-shadow: 0px 1px 3px 1px rgba(0, 0, 0, 0.15);\n",
              "      filter: drop-shadow(0px 1px 2px rgba(0, 0, 0, 0.3));\n",
              "      fill: #FFFFFF;\n",
              "    }\n",
              "  </style>\n",
              "\n",
              "      <script>\n",
              "        const buttonEl =\n",
              "          document.querySelector('#df-16f9affc-73c7-42e5-bb7a-95d1c12b6d3d button.colab-df-convert');\n",
              "        buttonEl.style.display =\n",
              "          google.colab.kernel.accessAllowed ? 'block' : 'none';\n",
              "\n",
              "        async function convertToInteractive(key) {\n",
              "          const element = document.querySelector('#df-16f9affc-73c7-42e5-bb7a-95d1c12b6d3d');\n",
              "          const dataTable =\n",
              "            await google.colab.kernel.invokeFunction('convertToInteractive',\n",
              "                                                     [key], {});\n",
              "          if (!dataTable) return;\n",
              "\n",
              "          const docLinkHtml = 'Like what you see? Visit the ' +\n",
              "            '<a target=\"_blank\" href=https://colab.research.google.com/notebooks/data_table.ipynb>data table notebook</a>'\n",
              "            + ' to learn more about interactive tables.';\n",
              "          element.innerHTML = '';\n",
              "          dataTable['output_type'] = 'display_data';\n",
              "          await google.colab.output.renderOutput(dataTable, element);\n",
              "          const docLink = document.createElement('div');\n",
              "          docLink.innerHTML = docLinkHtml;\n",
              "          element.appendChild(docLink);\n",
              "        }\n",
              "      </script>\n",
              "    </div>\n",
              "  </div>\n",
              "  "
            ]
          },
          "metadata": {},
          "execution_count": 34
        }
      ]
    },
    {
      "cell_type": "code",
      "source": [
        "from scipy import stats\n",
        "res = []\n",
        "\n",
        "for _, tourn_id in enumerate(test.tourn_id.unique()):\n",
        "    df = pd.DataFrame()\n",
        "    \n",
        "    tourn = test[test.tourn_id == tourn_id].copy()\n",
        "    tourn['performance_predicted'] = 0\n",
        "    tourn['performance_actual'] = 0\n",
        "    try:\n",
        "        ans_arr, _ = get_complexity_data(tourn)\n",
        "    except TypeError:\n",
        "        continue\n",
        "    assert len(tourn) == ans_arr.shape[0]\n",
        "    for idx, answers in zip(range(len(tourn)), ans_arr):\n",
        "        try:\n",
        "            player_idx = np.argwhere(int(tourn.iloc[idx, 1]) == player_ids).item()\n",
        "        except ValueError:\n",
        "            tourn.iloc[idx, 4] = np.nan\n",
        "        else:\n",
        "            #\n",
        "            tourn.iloc[idx, 4] = rating_players[player_idx]\n",
        "        \n",
        "        tourn.iloc[idx, 5] = answers.sum()\n",
        "\n",
        "    tourn.dropna(axis=0, inplace=True, how='any')\n",
        "    # tourn.set_index('player_id')\n",
        "    \n",
        "    res.append([\n",
        "        stats.spearmanr(tourn['performance_actual'], tourn['performance_predicted']).statistic, \n",
        "        stats.kendalltau(tourn['performance_actual'], tourn['performance_predicted']).statistic\n",
        "    ])\n",
        "res = np.asarray(res)\n",
        "np.nanmean(res, axis=0) # array([0.72223742, 0.55741029])\n"
      ],
      "metadata": {
        "colab": {
          "base_uri": "https://localhost:8080/"
        },
        "id": "JaUVtdl9Rc9R",
        "outputId": "8b6171bf-58ae-4161-b7f1-5c2e21bd9a9c"
      },
      "execution_count": 56,
      "outputs": [
        {
          "output_type": "stream",
          "name": "stdout",
          "text": [
            "5477\n",
            "5705\n",
            "5710\n",
            "5733\n",
            "6172\n",
            "6265\n",
            "6307\n",
            "6308\n"
          ]
        },
        {
          "output_type": "stream",
          "name": "stderr",
          "text": [
            "/usr/local/lib/python3.9/dist-packages/scipy/stats/_stats_py.py:4916: ConstantInputWarning: An input array is constant; the correlation coefficient is not defined.\n",
            "  warnings.warn(stats.ConstantInputWarning(warn_msg))\n"
          ]
        }
      ]
    },
    {
      "cell_type": "code",
      "source": [
        "np.nanmean(res, axis=0)"
      ],
      "metadata": {
        "colab": {
          "base_uri": "https://localhost:8080/"
        },
        "id": "cuEaIoFmcu4O",
        "outputId": "637efcae-e78c-412f-b091-91fdb81d6d00"
      },
      "execution_count": 61,
      "outputs": [
        {
          "output_type": "execute_result",
          "data": {
            "text/plain": [
              "array([0.72223742, 0.55741029])"
            ]
          },
          "metadata": {},
          "execution_count": 61
        }
      ]
    },
    {
      "cell_type": "code",
      "source": [],
      "metadata": {
        "id": "sr2B9pLVRi4m"
      },
      "execution_count": null,
      "outputs": []
    }
  ]
}